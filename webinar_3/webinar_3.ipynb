{
 "cells": [
  {
   "cell_type": "markdown",
   "metadata": {
    "id": "y-NKXfLpIHyS"
   },
   "source": [
    "# Вебинар 3. Коллаборативная фильтрация"
   ]
  },
  {
   "cell_type": "markdown",
   "metadata": {
    "id": "2wqsdRrTIHyc"
   },
   "source": [
    "Исчерпывающую информацию с теорией, кодом и примерами можно найти в [статье](https://www.ethanrosenthal.com/2016/10/19/implicit-mf-part-1/)"
   ]
  },
  {
   "cell_type": "markdown",
   "metadata": {
    "id": "6ovfF6vdIHyd"
   },
   "source": [
    "# 1. Матричная факторизация"
   ]
  },
  {
   "cell_type": "markdown",
   "metadata": {
    "id": "PvC1iGQgIHyd"
   },
   "source": [
    "Раскладываем user-item матрицу на 2: матрицу латентных факторов юзеров и матрицу латентных факторов товаров\n",
    "\n",
    "- латентый фактор = эмбеддинг (embedding)    "
   ]
  },
  {
   "cell_type": "markdown",
   "metadata": {
    "id": "6TAuWYOrIHye"
   },
   "source": [
    "<img src='mf.png'>"
   ]
  },
  {
   "cell_type": "code",
   "execution_count": null,
   "metadata": {},
   "outputs": [],
   "source": [
    "(UхI) = (Uхk) * (kхI)"
   ]
  },
  {
   "cell_type": "markdown",
   "metadata": {
    "id": "wJxPaKgQIHyf"
   },
   "source": [
    "---"
   ]
  },
  {
   "attachments": {
    "image.png": {
     "image/png": "[encoded data removed]"
    }
   },
   "cell_type": "markdown",
   "metadata": {},
   "source": [
    "![image.png](attachment:image.png)"
   ]
  },
  {
   "cell_type": "markdown",
   "metadata": {
    "id": "_boxK1R8IHyf"
   },
   "source": [
    "## Alternating Least Squares (ALS)"
   ]
  },
  {
   "cell_type": "markdown",
   "metadata": {},
   "source": [
    "<img src=\"als_formula.png\" >"
   ]
  },
  {
   "cell_type": "markdown",
   "metadata": {
    "id": "v5JZh2OlIHyg"
   },
   "source": [
    "$x_u^T$ - user embeddings  \n",
    "$y_i$ - item embeddings  \n",
    "$p_{ui}$ - 0/1. 1 - если в матрице user-item эдемент > 0 (было взаимодействие)  \n",
    "$c_{ui}$ - Вес ошибки = элемент матрицы user-item  \n",
    "$\\lambda_x$, $\\lambda_y$ - коэффициенты регуляризации  "
   ]
  },
  {
   "cell_type": "markdown",
   "metadata": {
    "id": "fMy8aBzGIHyg"
   },
   "source": [
    "**Алгоритм**  \n",
    "ALS - лишь способ оптимизации (поиска коэффициентов в эмбеддингах):  \n",
    "\n",
    "1. Фиксируем эмбеддинги юзеров $x_u^T$ --> легко посчитать производную по эмбеддингам товаров $y_i$\n",
    "2. Обновляем эмбеддинги товаров (делаем шаг по антиградиенту = градиентный спуск)\n",
    "3. Фиксируем эмбеддинги товаров $y_i$ --> легко посчитать производную по эмбеддингам юзеров $x_u^T$\n",
    "4. Обновляем эмбеддинги юзеров (делаем шаг по антиградиенту = градиентный спуск)\n",
    "5. Повторяем, пока процедура не сойдется"
   ]
  },
  {
   "cell_type": "markdown",
   "metadata": {
    "id": "7BIbRcukIHyh"
   },
   "source": [
    "**Плюсы**\n",
    "- Очень быстрый\n",
    "- В продакшене можно зафиксировать на весь день эмбеддинги товаров (товары за день не меняются), \n",
    "    и в реал-тайм обновлять эмбеддинги юзеров при покупке\n",
    "- Есть регуляризация $\\lambda_x$, $\\lambda_y$\n",
    "- Есть веса ошибок $с_{u_i}$ - элементы матрицы user-item\n",
    "- Библиотека implicit под капотом использует Cyton - очень быстро работает\n",
    "- Predict для *всех* юзеров можно сделать просто перемножением 2-ух матриц - очень быстро\n",
    "- Можно применять различные **взвешивания** матрицы: TF-IDF, BM25, ... . Это сильно улучшает качество"
   ]
  },
  {
   "cell_type": "markdown",
   "metadata": {
    "id": "XvVWxLAcIHyh"
   },
   "source": [
    "### 1. Базовое применение"
   ]
  },
  {
   "cell_type": "code",
   "execution_count": 1,
   "metadata": {
    "id": "gdbpCE-gIHyi"
   },
   "outputs": [],
   "source": [
    "import pandas as pd\n",
    "import numpy as np\n",
    "import matplotlib.pyplot as plt\n",
    "%matplotlib inline\n",
    "\n",
    "# Для работы с матрицами\n",
    "from scipy.sparse import csr_matrix\n",
    "\n",
    "# Матричная факторизация\n",
    "from implicit.als import AlternatingLeastSquares\n",
    "from implicit.nearest_neighbours import bm25_weight, tfidf_weight\n",
    "\n",
    "# Функции из 1-ого вебинара\n",
    "import os, sys\n",
    "\n",
    "module_path = os.path.abspath(os.path.join(os.pardir))\n",
    "if module_path not in sys.path:\n",
    "    sys.path.append(module_path)\n",
    "    \n",
    "from metrics import precision_at_k, recall_at_k"
   ]
  },
  {
   "cell_type": "code",
   "execution_count": 2,
   "metadata": {
    "id": "2IhaU8JDIHyi",
    "outputId": "a3a22636-04a2-4ad4-9774-e0c5cbcd6a09"
   },
   "outputs": [
    {
     "data": {
      "text/html": [
       "<div>\n",
       "<style scoped>\n",
       "    .dataframe tbody tr th:only-of-type {\n",
       "        vertical-align: middle;\n",
       "    }\n",
       "\n",
       "    .dataframe tbody tr th {\n",
       "        vertical-align: top;\n",
       "    }\n",
       "\n",
       "    .dataframe thead th {\n",
       "        text-align: right;\n",
       "    }\n",
       "</style>\n",
       "<table border=\"1\" class=\"dataframe\">\n",
       "  <thead>\n",
       "    <tr style=\"text-align: right;\">\n",
       "      <th></th>\n",
       "      <th>user_id</th>\n",
       "      <th>basket_id</th>\n",
       "      <th>day</th>\n",
       "      <th>item_id</th>\n",
       "      <th>quantity</th>\n",
       "      <th>sales_value</th>\n",
       "      <th>store_id</th>\n",
       "      <th>retail_disc</th>\n",
       "      <th>trans_time</th>\n",
       "      <th>week_no</th>\n",
       "      <th>coupon_disc</th>\n",
       "      <th>coupon_match_disc</th>\n",
       "    </tr>\n",
       "  </thead>\n",
       "  <tbody>\n",
       "    <tr>\n",
       "      <th>0</th>\n",
       "      <td>2375</td>\n",
       "      <td>26984851472</td>\n",
       "      <td>1</td>\n",
       "      <td>1004906</td>\n",
       "      <td>1</td>\n",
       "      <td>1.39</td>\n",
       "      <td>364</td>\n",
       "      <td>-0.60</td>\n",
       "      <td>1631</td>\n",
       "      <td>1</td>\n",
       "      <td>0.0</td>\n",
       "      <td>0.0</td>\n",
       "    </tr>\n",
       "    <tr>\n",
       "      <th>1</th>\n",
       "      <td>2375</td>\n",
       "      <td>26984851472</td>\n",
       "      <td>1</td>\n",
       "      <td>1033142</td>\n",
       "      <td>1</td>\n",
       "      <td>0.82</td>\n",
       "      <td>364</td>\n",
       "      <td>0.00</td>\n",
       "      <td>1631</td>\n",
       "      <td>1</td>\n",
       "      <td>0.0</td>\n",
       "      <td>0.0</td>\n",
       "    </tr>\n",
       "    <tr>\n",
       "      <th>2</th>\n",
       "      <td>2375</td>\n",
       "      <td>26984851472</td>\n",
       "      <td>1</td>\n",
       "      <td>1036325</td>\n",
       "      <td>1</td>\n",
       "      <td>0.99</td>\n",
       "      <td>364</td>\n",
       "      <td>-0.30</td>\n",
       "      <td>1631</td>\n",
       "      <td>1</td>\n",
       "      <td>0.0</td>\n",
       "      <td>0.0</td>\n",
       "    </tr>\n",
       "    <tr>\n",
       "      <th>3</th>\n",
       "      <td>2375</td>\n",
       "      <td>26984851472</td>\n",
       "      <td>1</td>\n",
       "      <td>1082185</td>\n",
       "      <td>1</td>\n",
       "      <td>1.21</td>\n",
       "      <td>364</td>\n",
       "      <td>0.00</td>\n",
       "      <td>1631</td>\n",
       "      <td>1</td>\n",
       "      <td>0.0</td>\n",
       "      <td>0.0</td>\n",
       "    </tr>\n",
       "    <tr>\n",
       "      <th>4</th>\n",
       "      <td>2375</td>\n",
       "      <td>26984851472</td>\n",
       "      <td>1</td>\n",
       "      <td>8160430</td>\n",
       "      <td>1</td>\n",
       "      <td>1.50</td>\n",
       "      <td>364</td>\n",
       "      <td>-0.39</td>\n",
       "      <td>1631</td>\n",
       "      <td>1</td>\n",
       "      <td>0.0</td>\n",
       "      <td>0.0</td>\n",
       "    </tr>\n",
       "    <tr>\n",
       "      <th>5</th>\n",
       "      <td>2375</td>\n",
       "      <td>26984851516</td>\n",
       "      <td>1</td>\n",
       "      <td>826249</td>\n",
       "      <td>2</td>\n",
       "      <td>1.98</td>\n",
       "      <td>364</td>\n",
       "      <td>-0.60</td>\n",
       "      <td>1642</td>\n",
       "      <td>1</td>\n",
       "      <td>0.0</td>\n",
       "      <td>0.0</td>\n",
       "    </tr>\n",
       "    <tr>\n",
       "      <th>6</th>\n",
       "      <td>2375</td>\n",
       "      <td>26984851516</td>\n",
       "      <td>1</td>\n",
       "      <td>1043142</td>\n",
       "      <td>1</td>\n",
       "      <td>1.57</td>\n",
       "      <td>364</td>\n",
       "      <td>-0.68</td>\n",
       "      <td>1642</td>\n",
       "      <td>1</td>\n",
       "      <td>0.0</td>\n",
       "      <td>0.0</td>\n",
       "    </tr>\n",
       "    <tr>\n",
       "      <th>7</th>\n",
       "      <td>2375</td>\n",
       "      <td>26984851516</td>\n",
       "      <td>1</td>\n",
       "      <td>1085983</td>\n",
       "      <td>1</td>\n",
       "      <td>2.99</td>\n",
       "      <td>364</td>\n",
       "      <td>-0.40</td>\n",
       "      <td>1642</td>\n",
       "      <td>1</td>\n",
       "      <td>0.0</td>\n",
       "      <td>0.0</td>\n",
       "    </tr>\n",
       "    <tr>\n",
       "      <th>8</th>\n",
       "      <td>2375</td>\n",
       "      <td>26984851516</td>\n",
       "      <td>1</td>\n",
       "      <td>1102651</td>\n",
       "      <td>1</td>\n",
       "      <td>1.89</td>\n",
       "      <td>364</td>\n",
       "      <td>0.00</td>\n",
       "      <td>1642</td>\n",
       "      <td>1</td>\n",
       "      <td>0.0</td>\n",
       "      <td>0.0</td>\n",
       "    </tr>\n",
       "    <tr>\n",
       "      <th>9</th>\n",
       "      <td>2375</td>\n",
       "      <td>26984851516</td>\n",
       "      <td>1</td>\n",
       "      <td>6423775</td>\n",
       "      <td>1</td>\n",
       "      <td>2.00</td>\n",
       "      <td>364</td>\n",
       "      <td>-0.79</td>\n",
       "      <td>1642</td>\n",
       "      <td>1</td>\n",
       "      <td>0.0</td>\n",
       "      <td>0.0</td>\n",
       "    </tr>\n",
       "  </tbody>\n",
       "</table>\n",
       "</div>"
      ],
      "text/plain": [
       "   user_id    basket_id  day  item_id  quantity  sales_value  store_id  \\\n",
       "0     2375  26984851472    1  1004906         1         1.39       364   \n",
       "1     2375  26984851472    1  1033142         1         0.82       364   \n",
       "2     2375  26984851472    1  1036325         1         0.99       364   \n",
       "3     2375  26984851472    1  1082185         1         1.21       364   \n",
       "4     2375  26984851472    1  8160430         1         1.50       364   \n",
       "5     2375  26984851516    1   826249         2         1.98       364   \n",
       "6     2375  26984851516    1  1043142         1         1.57       364   \n",
       "7     2375  26984851516    1  1085983         1         2.99       364   \n",
       "8     2375  26984851516    1  1102651         1         1.89       364   \n",
       "9     2375  26984851516    1  6423775         1         2.00       364   \n",
       "\n",
       "   retail_disc  trans_time  week_no  coupon_disc  coupon_match_disc  \n",
       "0        -0.60        1631        1          0.0                0.0  \n",
       "1         0.00        1631        1          0.0                0.0  \n",
       "2        -0.30        1631        1          0.0                0.0  \n",
       "3         0.00        1631        1          0.0                0.0  \n",
       "4        -0.39        1631        1          0.0                0.0  \n",
       "5        -0.60        1642        1          0.0                0.0  \n",
       "6        -0.68        1642        1          0.0                0.0  \n",
       "7        -0.40        1642        1          0.0                0.0  \n",
       "8         0.00        1642        1          0.0                0.0  \n",
       "9        -0.79        1642        1          0.0                0.0  "
      ]
     },
     "execution_count": 2,
     "metadata": {},
     "output_type": "execute_result"
    }
   ],
   "source": [
    "data = pd.read_csv('retail_train.csv')\n",
    "\n",
    "data.columns = [col.lower() for col in data.columns]\n",
    "data.rename(columns={'household_key': 'user_id',\n",
    "                    'product_id': 'item_id'},\n",
    "           inplace=True)\n",
    "\n",
    "\n",
    "test_size_weeks = 3\n",
    "\n",
    "data_train = data[data['week_no'] < data['week_no'].max() - test_size_weeks]\n",
    "data_test = data[data['week_no'] >= data['week_no'].max() - test_size_weeks]\n",
    "\n",
    "data_train.head(10)"
   ]
  },
  {
   "cell_type": "code",
   "execution_count": 3,
   "metadata": {
    "id": "2Csvjg-jIHyk",
    "outputId": "75eeddbb-bdc1-401e-bfcf-6a66ae46b3a3"
   },
   "outputs": [
    {
     "data": {
      "text/html": [
       "<div>\n",
       "<style scoped>\n",
       "    .dataframe tbody tr th:only-of-type {\n",
       "        vertical-align: middle;\n",
       "    }\n",
       "\n",
       "    .dataframe tbody tr th {\n",
       "        vertical-align: top;\n",
       "    }\n",
       "\n",
       "    .dataframe thead th {\n",
       "        text-align: right;\n",
       "    }\n",
       "</style>\n",
       "<table border=\"1\" class=\"dataframe\">\n",
       "  <thead>\n",
       "    <tr style=\"text-align: right;\">\n",
       "      <th></th>\n",
       "      <th>item_id</th>\n",
       "      <th>manufacturer</th>\n",
       "      <th>department</th>\n",
       "      <th>brand</th>\n",
       "      <th>commodity_desc</th>\n",
       "      <th>sub_commodity_desc</th>\n",
       "      <th>curr_size_of_product</th>\n",
       "    </tr>\n",
       "  </thead>\n",
       "  <tbody>\n",
       "    <tr>\n",
       "      <th>0</th>\n",
       "      <td>25671</td>\n",
       "      <td>2</td>\n",
       "      <td>GROCERY</td>\n",
       "      <td>National</td>\n",
       "      <td>FRZN ICE</td>\n",
       "      <td>ICE - CRUSHED/CUBED</td>\n",
       "      <td>22 LB</td>\n",
       "    </tr>\n",
       "    <tr>\n",
       "      <th>1</th>\n",
       "      <td>26081</td>\n",
       "      <td>2</td>\n",
       "      <td>MISC. TRANS.</td>\n",
       "      <td>National</td>\n",
       "      <td>NO COMMODITY DESCRIPTION</td>\n",
       "      <td>NO SUBCOMMODITY DESCRIPTION</td>\n",
       "      <td></td>\n",
       "    </tr>\n",
       "  </tbody>\n",
       "</table>\n",
       "</div>"
      ],
      "text/plain": [
       "   item_id  manufacturer    department     brand            commodity_desc  \\\n",
       "0    25671             2       GROCERY  National                  FRZN ICE   \n",
       "1    26081             2  MISC. TRANS.  National  NO COMMODITY DESCRIPTION   \n",
       "\n",
       "            sub_commodity_desc curr_size_of_product  \n",
       "0          ICE - CRUSHED/CUBED                22 LB  \n",
       "1  NO SUBCOMMODITY DESCRIPTION                       "
      ]
     },
     "execution_count": 3,
     "metadata": {},
     "output_type": "execute_result"
    }
   ],
   "source": [
    "item_features = pd.read_csv('product.csv')\n",
    "item_features.columns = [col.lower() for col in item_features.columns]\n",
    "item_features.rename(columns={'product_id': 'item_id'}, inplace=True)\n",
    "\n",
    "item_features.head(2)"
   ]
  },
  {
   "cell_type": "code",
   "execution_count": 4,
   "metadata": {
    "id": "ZQna6TBQIHyk",
    "outputId": "7728607d-5b4d-4ce8-f30f-79072af648d2"
   },
   "outputs": [
    {
     "data": {
      "text/plain": [
       "array(['GROCERY', 'MISC. TRANS.', 'PASTRY', 'DRUG GM', 'MEAT-PCKGD',\n",
       "       'SEAFOOD-PCKGD', 'PRODUCE', 'NUTRITION', 'DELI', 'COSMETICS',\n",
       "       'MEAT', 'FLORAL', 'TRAVEL & LEISUR', 'SEAFOOD', 'MISC SALES TRAN',\n",
       "       'SALAD BAR', 'KIOSK-GAS', 'ELECT &PLUMBING', 'GRO BAKERY',\n",
       "       'GM MERCH EXP', 'FROZEN GROCERY', 'COUP/STR & MFG', 'SPIRITS',\n",
       "       'GARDEN CENTER', 'TOYS', 'CHARITABLE CONT', 'RESTAURANT', 'RX',\n",
       "       'PROD-WHS SALES', 'MEAT-WHSE', 'DAIRY DELI', 'CHEF SHOPPE', 'HBC',\n",
       "       'DELI/SNACK BAR', 'PORK', 'AUTOMOTIVE', 'VIDEO RENTAL', ' ',\n",
       "       'CNTRL/STORE SUP', 'HOUSEWARES', 'POSTAL CENTER', 'PHOTO', 'VIDEO',\n",
       "       'PHARMACY SUPPLY'], dtype=object)"
      ]
     },
     "execution_count": 4,
     "metadata": {},
     "output_type": "execute_result"
    }
   ],
   "source": [
    "item_features.department.unique()"
   ]
  },
  {
   "cell_type": "code",
   "execution_count": 5,
   "metadata": {
    "id": "vBJcGBpTIHyl",
    "outputId": "612dfe1f-286b-4d81-af92-721c6e317b6c"
   },
   "outputs": [
    {
     "data": {
      "text/html": [
       "<div>\n",
       "<style scoped>\n",
       "    .dataframe tbody tr th:only-of-type {\n",
       "        vertical-align: middle;\n",
       "    }\n",
       "\n",
       "    .dataframe tbody tr th {\n",
       "        vertical-align: top;\n",
       "    }\n",
       "\n",
       "    .dataframe thead th {\n",
       "        text-align: right;\n",
       "    }\n",
       "</style>\n",
       "<table border=\"1\" class=\"dataframe\">\n",
       "  <thead>\n",
       "    <tr style=\"text-align: right;\">\n",
       "      <th></th>\n",
       "      <th>user_id</th>\n",
       "      <th>actual</th>\n",
       "    </tr>\n",
       "  </thead>\n",
       "  <tbody>\n",
       "    <tr>\n",
       "      <th>0</th>\n",
       "      <td>1</td>\n",
       "      <td>[821867, 834484, 856942, 865456, 889248, 90795...</td>\n",
       "    </tr>\n",
       "    <tr>\n",
       "      <th>1</th>\n",
       "      <td>3</td>\n",
       "      <td>[835476, 851057, 872021, 878302, 879948, 90963...</td>\n",
       "    </tr>\n",
       "  </tbody>\n",
       "</table>\n",
       "</div>"
      ],
      "text/plain": [
       "   user_id                                             actual\n",
       "0        1  [821867, 834484, 856942, 865456, 889248, 90795...\n",
       "1        3  [835476, 851057, 872021, 878302, 879948, 90963..."
      ]
     },
     "execution_count": 5,
     "metadata": {},
     "output_type": "execute_result"
    }
   ],
   "source": [
    "result = data_test.groupby('user_id')['item_id'].unique().reset_index()\n",
    "result.columns=['user_id', 'actual']\n",
    "result.head(2)"
   ]
  },
  {
   "cell_type": "code",
   "execution_count": 6,
   "metadata": {
    "id": "9dmp1II9IHyl"
   },
   "outputs": [],
   "source": [
    "popularity = data_train.groupby('item_id')['quantity'].sum().reset_index()\n",
    "popularity.rename(columns={'quantity': 'n_sold'}, inplace=True)\n",
    "\n",
    "top_5000 = popularity.sort_values('n_sold', ascending=False).head(5000).item_id.tolist()"
   ]
  },
  {
   "cell_type": "code",
   "execution_count": 7,
   "metadata": {},
   "outputs": [
    {
     "data": {
      "text/html": [
       "<div>\n",
       "<style scoped>\n",
       "    .dataframe tbody tr th:only-of-type {\n",
       "        vertical-align: middle;\n",
       "    }\n",
       "\n",
       "    .dataframe tbody tr th {\n",
       "        vertical-align: top;\n",
       "    }\n",
       "\n",
       "    .dataframe thead th {\n",
       "        text-align: right;\n",
       "    }\n",
       "</style>\n",
       "<table border=\"1\" class=\"dataframe\">\n",
       "  <thead>\n",
       "    <tr style=\"text-align: right;\">\n",
       "      <th></th>\n",
       "      <th>user_id</th>\n",
       "      <th>basket_id</th>\n",
       "      <th>day</th>\n",
       "      <th>item_id</th>\n",
       "      <th>quantity</th>\n",
       "      <th>sales_value</th>\n",
       "      <th>store_id</th>\n",
       "      <th>retail_disc</th>\n",
       "      <th>trans_time</th>\n",
       "      <th>week_no</th>\n",
       "      <th>coupon_disc</th>\n",
       "      <th>coupon_match_disc</th>\n",
       "    </tr>\n",
       "  </thead>\n",
       "  <tbody>\n",
       "    <tr>\n",
       "      <th>0</th>\n",
       "      <td>2375</td>\n",
       "      <td>26984851472</td>\n",
       "      <td>1</td>\n",
       "      <td>1004906</td>\n",
       "      <td>1</td>\n",
       "      <td>1.39</td>\n",
       "      <td>364</td>\n",
       "      <td>-0.60</td>\n",
       "      <td>1631</td>\n",
       "      <td>1</td>\n",
       "      <td>0.0</td>\n",
       "      <td>0.0</td>\n",
       "    </tr>\n",
       "    <tr>\n",
       "      <th>1</th>\n",
       "      <td>2375</td>\n",
       "      <td>26984851472</td>\n",
       "      <td>1</td>\n",
       "      <td>1033142</td>\n",
       "      <td>1</td>\n",
       "      <td>0.82</td>\n",
       "      <td>364</td>\n",
       "      <td>0.00</td>\n",
       "      <td>1631</td>\n",
       "      <td>1</td>\n",
       "      <td>0.0</td>\n",
       "      <td>0.0</td>\n",
       "    </tr>\n",
       "    <tr>\n",
       "      <th>2</th>\n",
       "      <td>2375</td>\n",
       "      <td>26984851472</td>\n",
       "      <td>1</td>\n",
       "      <td>1036325</td>\n",
       "      <td>1</td>\n",
       "      <td>0.99</td>\n",
       "      <td>364</td>\n",
       "      <td>-0.30</td>\n",
       "      <td>1631</td>\n",
       "      <td>1</td>\n",
       "      <td>0.0</td>\n",
       "      <td>0.0</td>\n",
       "    </tr>\n",
       "    <tr>\n",
       "      <th>3</th>\n",
       "      <td>2375</td>\n",
       "      <td>26984851472</td>\n",
       "      <td>1</td>\n",
       "      <td>1082185</td>\n",
       "      <td>1</td>\n",
       "      <td>1.21</td>\n",
       "      <td>364</td>\n",
       "      <td>0.00</td>\n",
       "      <td>1631</td>\n",
       "      <td>1</td>\n",
       "      <td>0.0</td>\n",
       "      <td>0.0</td>\n",
       "    </tr>\n",
       "    <tr>\n",
       "      <th>4</th>\n",
       "      <td>2375</td>\n",
       "      <td>26984851472</td>\n",
       "      <td>1</td>\n",
       "      <td>8160430</td>\n",
       "      <td>1</td>\n",
       "      <td>1.50</td>\n",
       "      <td>364</td>\n",
       "      <td>-0.39</td>\n",
       "      <td>1631</td>\n",
       "      <td>1</td>\n",
       "      <td>0.0</td>\n",
       "      <td>0.0</td>\n",
       "    </tr>\n",
       "  </tbody>\n",
       "</table>\n",
       "</div>"
      ],
      "text/plain": [
       "   user_id    basket_id  day  item_id  quantity  sales_value  store_id  \\\n",
       "0     2375  26984851472    1  1004906         1         1.39       364   \n",
       "1     2375  26984851472    1  1033142         1         0.82       364   \n",
       "2     2375  26984851472    1  1036325         1         0.99       364   \n",
       "3     2375  26984851472    1  1082185         1         1.21       364   \n",
       "4     2375  26984851472    1  8160430         1         1.50       364   \n",
       "\n",
       "   retail_disc  trans_time  week_no  coupon_disc  coupon_match_disc  \n",
       "0        -0.60        1631        1          0.0                0.0  \n",
       "1         0.00        1631        1          0.0                0.0  \n",
       "2        -0.30        1631        1          0.0                0.0  \n",
       "3         0.00        1631        1          0.0                0.0  \n",
       "4        -0.39        1631        1          0.0                0.0  "
      ]
     },
     "execution_count": 7,
     "metadata": {},
     "output_type": "execute_result"
    }
   ],
   "source": [
    "data_train.head(5)"
   ]
  },
  {
   "cell_type": "code",
   "execution_count": 8,
   "metadata": {
    "id": "jvQ8_CJ9IHym",
    "outputId": "ebf07e9a-6f11-4aa9-d43d-98c0055ec42d"
   },
   "outputs": [
    {
     "name": "stderr",
     "output_type": "stream",
     "text": [
      "D:\\anaconda\\envs\\myenv\\lib\\site-packages\\pandas\\core\\indexing.py:966: SettingWithCopyWarning: \n",
      "A value is trying to be set on a copy of a slice from a DataFrame.\n",
      "Try using .loc[row_indexer,col_indexer] = value instead\n",
      "\n",
      "See the caveats in the documentation: https://pandas.pydata.org/pandas-docs/stable/user_guide/indexing.html#returning-a-view-versus-a-copy\n",
      "  self.obj[item] = s\n"
     ]
    },
    {
     "data": {
      "text/html": [
       "<div>\n",
       "<style scoped>\n",
       "    .dataframe tbody tr th:only-of-type {\n",
       "        vertical-align: middle;\n",
       "    }\n",
       "\n",
       "    .dataframe tbody tr th {\n",
       "        vertical-align: top;\n",
       "    }\n",
       "\n",
       "    .dataframe thead th {\n",
       "        text-align: right;\n",
       "    }\n",
       "</style>\n",
       "<table border=\"1\" class=\"dataframe\">\n",
       "  <thead>\n",
       "    <tr style=\"text-align: right;\">\n",
       "      <th>item_id</th>\n",
       "      <th>202291</th>\n",
       "      <th>397896</th>\n",
       "      <th>420647</th>\n",
       "      <th>480014</th>\n",
       "      <th>545926</th>\n",
       "      <th>707683</th>\n",
       "      <th>731106</th>\n",
       "      <th>818980</th>\n",
       "      <th>819063</th>\n",
       "      <th>819227</th>\n",
       "      <th>...</th>\n",
       "      <th>15778533</th>\n",
       "      <th>15831255</th>\n",
       "      <th>15926712</th>\n",
       "      <th>15926775</th>\n",
       "      <th>15926844</th>\n",
       "      <th>15926886</th>\n",
       "      <th>15927403</th>\n",
       "      <th>15927661</th>\n",
       "      <th>15927850</th>\n",
       "      <th>16809471</th>\n",
       "    </tr>\n",
       "    <tr>\n",
       "      <th>user_id</th>\n",
       "      <th></th>\n",
       "      <th></th>\n",
       "      <th></th>\n",
       "      <th></th>\n",
       "      <th></th>\n",
       "      <th></th>\n",
       "      <th></th>\n",
       "      <th></th>\n",
       "      <th></th>\n",
       "      <th></th>\n",
       "      <th></th>\n",
       "      <th></th>\n",
       "      <th></th>\n",
       "      <th></th>\n",
       "      <th></th>\n",
       "      <th></th>\n",
       "      <th></th>\n",
       "      <th></th>\n",
       "      <th></th>\n",
       "      <th></th>\n",
       "      <th></th>\n",
       "    </tr>\n",
       "  </thead>\n",
       "  <tbody>\n",
       "    <tr>\n",
       "      <th>1</th>\n",
       "      <td>0.0</td>\n",
       "      <td>0.0</td>\n",
       "      <td>0.0</td>\n",
       "      <td>0.0</td>\n",
       "      <td>0.0</td>\n",
       "      <td>0.0</td>\n",
       "      <td>0.0</td>\n",
       "      <td>0.0</td>\n",
       "      <td>0.0</td>\n",
       "      <td>0.0</td>\n",
       "      <td>...</td>\n",
       "      <td>0.0</td>\n",
       "      <td>0.0</td>\n",
       "      <td>0.0</td>\n",
       "      <td>0.0</td>\n",
       "      <td>1.0</td>\n",
       "      <td>0.0</td>\n",
       "      <td>0.0</td>\n",
       "      <td>0.0</td>\n",
       "      <td>0.0</td>\n",
       "      <td>0.0</td>\n",
       "    </tr>\n",
       "    <tr>\n",
       "      <th>2</th>\n",
       "      <td>0.0</td>\n",
       "      <td>0.0</td>\n",
       "      <td>0.0</td>\n",
       "      <td>0.0</td>\n",
       "      <td>0.0</td>\n",
       "      <td>0.0</td>\n",
       "      <td>0.0</td>\n",
       "      <td>0.0</td>\n",
       "      <td>0.0</td>\n",
       "      <td>0.0</td>\n",
       "      <td>...</td>\n",
       "      <td>0.0</td>\n",
       "      <td>0.0</td>\n",
       "      <td>0.0</td>\n",
       "      <td>0.0</td>\n",
       "      <td>0.0</td>\n",
       "      <td>0.0</td>\n",
       "      <td>0.0</td>\n",
       "      <td>0.0</td>\n",
       "      <td>0.0</td>\n",
       "      <td>0.0</td>\n",
       "    </tr>\n",
       "    <tr>\n",
       "      <th>3</th>\n",
       "      <td>0.0</td>\n",
       "      <td>0.0</td>\n",
       "      <td>0.0</td>\n",
       "      <td>0.0</td>\n",
       "      <td>0.0</td>\n",
       "      <td>0.0</td>\n",
       "      <td>0.0</td>\n",
       "      <td>0.0</td>\n",
       "      <td>0.0</td>\n",
       "      <td>0.0</td>\n",
       "      <td>...</td>\n",
       "      <td>0.0</td>\n",
       "      <td>0.0</td>\n",
       "      <td>0.0</td>\n",
       "      <td>0.0</td>\n",
       "      <td>0.0</td>\n",
       "      <td>0.0</td>\n",
       "      <td>0.0</td>\n",
       "      <td>0.0</td>\n",
       "      <td>0.0</td>\n",
       "      <td>0.0</td>\n",
       "    </tr>\n",
       "  </tbody>\n",
       "</table>\n",
       "<p>3 rows × 5001 columns</p>\n",
       "</div>"
      ],
      "text/plain": [
       "item_id  202291    397896    420647    480014    545926    707683    731106    \\\n",
       "user_id                                                                         \n",
       "1             0.0       0.0       0.0       0.0       0.0       0.0       0.0   \n",
       "2             0.0       0.0       0.0       0.0       0.0       0.0       0.0   \n",
       "3             0.0       0.0       0.0       0.0       0.0       0.0       0.0   \n",
       "\n",
       "item_id  818980    819063    819227    ...  15778533  15831255  15926712  \\\n",
       "user_id                                ...                                 \n",
       "1             0.0       0.0       0.0  ...       0.0       0.0       0.0   \n",
       "2             0.0       0.0       0.0  ...       0.0       0.0       0.0   \n",
       "3             0.0       0.0       0.0  ...       0.0       0.0       0.0   \n",
       "\n",
       "item_id  15926775  15926844  15926886  15927403  15927661  15927850  16809471  \n",
       "user_id                                                                        \n",
       "1             0.0       1.0       0.0       0.0       0.0       0.0       0.0  \n",
       "2             0.0       0.0       0.0       0.0       0.0       0.0       0.0  \n",
       "3             0.0       0.0       0.0       0.0       0.0       0.0       0.0  \n",
       "\n",
       "[3 rows x 5001 columns]"
      ]
     },
     "execution_count": 8,
     "metadata": {},
     "output_type": "execute_result"
    }
   ],
   "source": [
    "# Заведем фиктивный item_id\n",
    "\n",
    "data_train.loc[~data_train['item_id'].isin(top_5000), 'item_id'] = 999999\n",
    "\n",
    "user_item_matrix = pd.pivot_table(data_train, \n",
    "                                  index='user_id', columns='item_id', \n",
    "                                  values='quantity', # Можно пробовать другие варианты\n",
    "                                  aggfunc='count', \n",
    "                                  fill_value=0\n",
    "                                 )\n",
    "\n",
    "user_item_matrix = user_item_matrix.astype(float) # необходимый тип матрицы для implicit\n",
    "\n",
    "# переведем в формат saprse matrix\n",
    "sparse_user_item = csr_matrix(user_item_matrix).tocsr()\n",
    "\n",
    "user_item_matrix.head(3)"
   ]
  },
  {
   "cell_type": "code",
   "execution_count": 9,
   "metadata": {},
   "outputs": [
    {
     "data": {
      "text/html": [
       "<div>\n",
       "<style scoped>\n",
       "    .dataframe tbody tr th:only-of-type {\n",
       "        vertical-align: middle;\n",
       "    }\n",
       "\n",
       "    .dataframe tbody tr th {\n",
       "        vertical-align: top;\n",
       "    }\n",
       "\n",
       "    .dataframe thead th {\n",
       "        text-align: right;\n",
       "    }\n",
       "</style>\n",
       "<table border=\"1\" class=\"dataframe\">\n",
       "  <thead>\n",
       "    <tr style=\"text-align: right;\">\n",
       "      <th>item_id</th>\n",
       "      <th>202291</th>\n",
       "      <th>397896</th>\n",
       "      <th>420647</th>\n",
       "      <th>480014</th>\n",
       "      <th>545926</th>\n",
       "      <th>707683</th>\n",
       "      <th>731106</th>\n",
       "      <th>818980</th>\n",
       "      <th>819063</th>\n",
       "      <th>819227</th>\n",
       "      <th>...</th>\n",
       "      <th>15778533</th>\n",
       "      <th>15831255</th>\n",
       "      <th>15926712</th>\n",
       "      <th>15926775</th>\n",
       "      <th>15926844</th>\n",
       "      <th>15926886</th>\n",
       "      <th>15927403</th>\n",
       "      <th>15927661</th>\n",
       "      <th>15927850</th>\n",
       "      <th>16809471</th>\n",
       "    </tr>\n",
       "    <tr>\n",
       "      <th>user_id</th>\n",
       "      <th></th>\n",
       "      <th></th>\n",
       "      <th></th>\n",
       "      <th></th>\n",
       "      <th></th>\n",
       "      <th></th>\n",
       "      <th></th>\n",
       "      <th></th>\n",
       "      <th></th>\n",
       "      <th></th>\n",
       "      <th></th>\n",
       "      <th></th>\n",
       "      <th></th>\n",
       "      <th></th>\n",
       "      <th></th>\n",
       "      <th></th>\n",
       "      <th></th>\n",
       "      <th></th>\n",
       "      <th></th>\n",
       "      <th></th>\n",
       "      <th></th>\n",
       "    </tr>\n",
       "  </thead>\n",
       "  <tbody>\n",
       "    <tr>\n",
       "      <th>1</th>\n",
       "      <td>0.0</td>\n",
       "      <td>0.0</td>\n",
       "      <td>0.0</td>\n",
       "      <td>0.0</td>\n",
       "      <td>0.0</td>\n",
       "      <td>0.0</td>\n",
       "      <td>0.0</td>\n",
       "      <td>0.0</td>\n",
       "      <td>0.0</td>\n",
       "      <td>0.0</td>\n",
       "      <td>...</td>\n",
       "      <td>0.0</td>\n",
       "      <td>0.0</td>\n",
       "      <td>0.0</td>\n",
       "      <td>0.0</td>\n",
       "      <td>1.0</td>\n",
       "      <td>0.0</td>\n",
       "      <td>0.0</td>\n",
       "      <td>0.0</td>\n",
       "      <td>0.0</td>\n",
       "      <td>0.0</td>\n",
       "    </tr>\n",
       "    <tr>\n",
       "      <th>2</th>\n",
       "      <td>0.0</td>\n",
       "      <td>0.0</td>\n",
       "      <td>0.0</td>\n",
       "      <td>0.0</td>\n",
       "      <td>0.0</td>\n",
       "      <td>0.0</td>\n",
       "      <td>0.0</td>\n",
       "      <td>0.0</td>\n",
       "      <td>0.0</td>\n",
       "      <td>0.0</td>\n",
       "      <td>...</td>\n",
       "      <td>0.0</td>\n",
       "      <td>0.0</td>\n",
       "      <td>0.0</td>\n",
       "      <td>0.0</td>\n",
       "      <td>0.0</td>\n",
       "      <td>0.0</td>\n",
       "      <td>0.0</td>\n",
       "      <td>0.0</td>\n",
       "      <td>0.0</td>\n",
       "      <td>0.0</td>\n",
       "    </tr>\n",
       "    <tr>\n",
       "      <th>3</th>\n",
       "      <td>0.0</td>\n",
       "      <td>0.0</td>\n",
       "      <td>0.0</td>\n",
       "      <td>0.0</td>\n",
       "      <td>0.0</td>\n",
       "      <td>0.0</td>\n",
       "      <td>0.0</td>\n",
       "      <td>0.0</td>\n",
       "      <td>0.0</td>\n",
       "      <td>0.0</td>\n",
       "      <td>...</td>\n",
       "      <td>0.0</td>\n",
       "      <td>0.0</td>\n",
       "      <td>0.0</td>\n",
       "      <td>0.0</td>\n",
       "      <td>0.0</td>\n",
       "      <td>0.0</td>\n",
       "      <td>0.0</td>\n",
       "      <td>0.0</td>\n",
       "      <td>0.0</td>\n",
       "      <td>0.0</td>\n",
       "    </tr>\n",
       "    <tr>\n",
       "      <th>4</th>\n",
       "      <td>0.0</td>\n",
       "      <td>0.0</td>\n",
       "      <td>0.0</td>\n",
       "      <td>0.0</td>\n",
       "      <td>0.0</td>\n",
       "      <td>0.0</td>\n",
       "      <td>0.0</td>\n",
       "      <td>0.0</td>\n",
       "      <td>0.0</td>\n",
       "      <td>0.0</td>\n",
       "      <td>...</td>\n",
       "      <td>0.0</td>\n",
       "      <td>0.0</td>\n",
       "      <td>0.0</td>\n",
       "      <td>0.0</td>\n",
       "      <td>0.0</td>\n",
       "      <td>0.0</td>\n",
       "      <td>0.0</td>\n",
       "      <td>0.0</td>\n",
       "      <td>0.0</td>\n",
       "      <td>0.0</td>\n",
       "    </tr>\n",
       "    <tr>\n",
       "      <th>5</th>\n",
       "      <td>0.0</td>\n",
       "      <td>0.0</td>\n",
       "      <td>0.0</td>\n",
       "      <td>0.0</td>\n",
       "      <td>0.0</td>\n",
       "      <td>0.0</td>\n",
       "      <td>0.0</td>\n",
       "      <td>0.0</td>\n",
       "      <td>0.0</td>\n",
       "      <td>0.0</td>\n",
       "      <td>...</td>\n",
       "      <td>0.0</td>\n",
       "      <td>0.0</td>\n",
       "      <td>0.0</td>\n",
       "      <td>0.0</td>\n",
       "      <td>0.0</td>\n",
       "      <td>0.0</td>\n",
       "      <td>0.0</td>\n",
       "      <td>0.0</td>\n",
       "      <td>0.0</td>\n",
       "      <td>0.0</td>\n",
       "    </tr>\n",
       "    <tr>\n",
       "      <th>...</th>\n",
       "      <td>...</td>\n",
       "      <td>...</td>\n",
       "      <td>...</td>\n",
       "      <td>...</td>\n",
       "      <td>...</td>\n",
       "      <td>...</td>\n",
       "      <td>...</td>\n",
       "      <td>...</td>\n",
       "      <td>...</td>\n",
       "      <td>...</td>\n",
       "      <td>...</td>\n",
       "      <td>...</td>\n",
       "      <td>...</td>\n",
       "      <td>...</td>\n",
       "      <td>...</td>\n",
       "      <td>...</td>\n",
       "      <td>...</td>\n",
       "      <td>...</td>\n",
       "      <td>...</td>\n",
       "      <td>...</td>\n",
       "      <td>...</td>\n",
       "    </tr>\n",
       "    <tr>\n",
       "      <th>2496</th>\n",
       "      <td>0.0</td>\n",
       "      <td>0.0</td>\n",
       "      <td>0.0</td>\n",
       "      <td>0.0</td>\n",
       "      <td>0.0</td>\n",
       "      <td>0.0</td>\n",
       "      <td>0.0</td>\n",
       "      <td>0.0</td>\n",
       "      <td>0.0</td>\n",
       "      <td>0.0</td>\n",
       "      <td>...</td>\n",
       "      <td>0.0</td>\n",
       "      <td>0.0</td>\n",
       "      <td>0.0</td>\n",
       "      <td>0.0</td>\n",
       "      <td>0.0</td>\n",
       "      <td>0.0</td>\n",
       "      <td>0.0</td>\n",
       "      <td>0.0</td>\n",
       "      <td>0.0</td>\n",
       "      <td>0.0</td>\n",
       "    </tr>\n",
       "    <tr>\n",
       "      <th>2497</th>\n",
       "      <td>0.0</td>\n",
       "      <td>0.0</td>\n",
       "      <td>0.0</td>\n",
       "      <td>0.0</td>\n",
       "      <td>0.0</td>\n",
       "      <td>0.0</td>\n",
       "      <td>0.0</td>\n",
       "      <td>0.0</td>\n",
       "      <td>0.0</td>\n",
       "      <td>0.0</td>\n",
       "      <td>...</td>\n",
       "      <td>0.0</td>\n",
       "      <td>1.0</td>\n",
       "      <td>0.0</td>\n",
       "      <td>0.0</td>\n",
       "      <td>0.0</td>\n",
       "      <td>0.0</td>\n",
       "      <td>0.0</td>\n",
       "      <td>0.0</td>\n",
       "      <td>0.0</td>\n",
       "      <td>0.0</td>\n",
       "    </tr>\n",
       "    <tr>\n",
       "      <th>2498</th>\n",
       "      <td>2.0</td>\n",
       "      <td>0.0</td>\n",
       "      <td>0.0</td>\n",
       "      <td>0.0</td>\n",
       "      <td>0.0</td>\n",
       "      <td>0.0</td>\n",
       "      <td>0.0</td>\n",
       "      <td>0.0</td>\n",
       "      <td>0.0</td>\n",
       "      <td>0.0</td>\n",
       "      <td>...</td>\n",
       "      <td>0.0</td>\n",
       "      <td>0.0</td>\n",
       "      <td>0.0</td>\n",
       "      <td>0.0</td>\n",
       "      <td>0.0</td>\n",
       "      <td>0.0</td>\n",
       "      <td>0.0</td>\n",
       "      <td>0.0</td>\n",
       "      <td>0.0</td>\n",
       "      <td>0.0</td>\n",
       "    </tr>\n",
       "    <tr>\n",
       "      <th>2499</th>\n",
       "      <td>0.0</td>\n",
       "      <td>0.0</td>\n",
       "      <td>0.0</td>\n",
       "      <td>0.0</td>\n",
       "      <td>0.0</td>\n",
       "      <td>0.0</td>\n",
       "      <td>0.0</td>\n",
       "      <td>0.0</td>\n",
       "      <td>0.0</td>\n",
       "      <td>0.0</td>\n",
       "      <td>...</td>\n",
       "      <td>0.0</td>\n",
       "      <td>0.0</td>\n",
       "      <td>0.0</td>\n",
       "      <td>0.0</td>\n",
       "      <td>0.0</td>\n",
       "      <td>0.0</td>\n",
       "      <td>0.0</td>\n",
       "      <td>0.0</td>\n",
       "      <td>0.0</td>\n",
       "      <td>0.0</td>\n",
       "    </tr>\n",
       "    <tr>\n",
       "      <th>2500</th>\n",
       "      <td>0.0</td>\n",
       "      <td>0.0</td>\n",
       "      <td>0.0</td>\n",
       "      <td>0.0</td>\n",
       "      <td>0.0</td>\n",
       "      <td>0.0</td>\n",
       "      <td>0.0</td>\n",
       "      <td>0.0</td>\n",
       "      <td>0.0</td>\n",
       "      <td>0.0</td>\n",
       "      <td>...</td>\n",
       "      <td>0.0</td>\n",
       "      <td>0.0</td>\n",
       "      <td>0.0</td>\n",
       "      <td>0.0</td>\n",
       "      <td>0.0</td>\n",
       "      <td>0.0</td>\n",
       "      <td>0.0</td>\n",
       "      <td>0.0</td>\n",
       "      <td>0.0</td>\n",
       "      <td>0.0</td>\n",
       "    </tr>\n",
       "  </tbody>\n",
       "</table>\n",
       "<p>2499 rows × 5001 columns</p>\n",
       "</div>"
      ],
      "text/plain": [
       "item_id  202291    397896    420647    480014    545926    707683    731106    \\\n",
       "user_id                                                                         \n",
       "1             0.0       0.0       0.0       0.0       0.0       0.0       0.0   \n",
       "2             0.0       0.0       0.0       0.0       0.0       0.0       0.0   \n",
       "3             0.0       0.0       0.0       0.0       0.0       0.0       0.0   \n",
       "4             0.0       0.0       0.0       0.0       0.0       0.0       0.0   \n",
       "5             0.0       0.0       0.0       0.0       0.0       0.0       0.0   \n",
       "...           ...       ...       ...       ...       ...       ...       ...   \n",
       "2496          0.0       0.0       0.0       0.0       0.0       0.0       0.0   \n",
       "2497          0.0       0.0       0.0       0.0       0.0       0.0       0.0   \n",
       "2498          2.0       0.0       0.0       0.0       0.0       0.0       0.0   \n",
       "2499          0.0       0.0       0.0       0.0       0.0       0.0       0.0   \n",
       "2500          0.0       0.0       0.0       0.0       0.0       0.0       0.0   \n",
       "\n",
       "item_id  818980    819063    819227    ...  15778533  15831255  15926712  \\\n",
       "user_id                                ...                                 \n",
       "1             0.0       0.0       0.0  ...       0.0       0.0       0.0   \n",
       "2             0.0       0.0       0.0  ...       0.0       0.0       0.0   \n",
       "3             0.0       0.0       0.0  ...       0.0       0.0       0.0   \n",
       "4             0.0       0.0       0.0  ...       0.0       0.0       0.0   \n",
       "5             0.0       0.0       0.0  ...       0.0       0.0       0.0   \n",
       "...           ...       ...       ...  ...       ...       ...       ...   \n",
       "2496          0.0       0.0       0.0  ...       0.0       0.0       0.0   \n",
       "2497          0.0       0.0       0.0  ...       0.0       1.0       0.0   \n",
       "2498          0.0       0.0       0.0  ...       0.0       0.0       0.0   \n",
       "2499          0.0       0.0       0.0  ...       0.0       0.0       0.0   \n",
       "2500          0.0       0.0       0.0  ...       0.0       0.0       0.0   \n",
       "\n",
       "item_id  15926775  15926844  15926886  15927403  15927661  15927850  16809471  \n",
       "user_id                                                                        \n",
       "1             0.0       1.0       0.0       0.0       0.0       0.0       0.0  \n",
       "2             0.0       0.0       0.0       0.0       0.0       0.0       0.0  \n",
       "3             0.0       0.0       0.0       0.0       0.0       0.0       0.0  \n",
       "4             0.0       0.0       0.0       0.0       0.0       0.0       0.0  \n",
       "5             0.0       0.0       0.0       0.0       0.0       0.0       0.0  \n",
       "...           ...       ...       ...       ...       ...       ...       ...  \n",
       "2496          0.0       0.0       0.0       0.0       0.0       0.0       0.0  \n",
       "2497          0.0       0.0       0.0       0.0       0.0       0.0       0.0  \n",
       "2498          0.0       0.0       0.0       0.0       0.0       0.0       0.0  \n",
       "2499          0.0       0.0       0.0       0.0       0.0       0.0       0.0  \n",
       "2500          0.0       0.0       0.0       0.0       0.0       0.0       0.0  \n",
       "\n",
       "[2499 rows x 5001 columns]"
      ]
     },
     "execution_count": 9,
     "metadata": {},
     "output_type": "execute_result"
    }
   ],
   "source": [
    "user_item_matrix"
   ]
  },
  {
   "cell_type": "code",
   "execution_count": 10,
   "metadata": {
    "id": "TiPuXLb7IHym"
   },
   "outputs": [],
   "source": [
    "userids = user_item_matrix.index.values\n",
    "itemids = user_item_matrix.columns.values\n",
    "\n",
    "matrix_userids = np.arange(len(userids))\n",
    "matrix_itemids = np.arange(len(itemids))\n",
    "\n",
    "id_to_itemid = dict(zip(matrix_itemids, itemids))\n",
    "id_to_userid = dict(zip(matrix_userids, userids))\n",
    "\n",
    "itemid_to_id = dict(zip(itemids, matrix_itemids))\n",
    "userid_to_id = dict(zip(userids, matrix_userids))"
   ]
  },
  {
   "cell_type": "code",
   "execution_count": 11,
   "metadata": {},
   "outputs": [
    {
     "data": {
      "text/plain": [
       "1983"
      ]
     },
     "execution_count": 11,
     "metadata": {},
     "output_type": "execute_result"
    }
   ],
   "source": [
    "userid_to_id[1984]"
   ]
  },
  {
   "cell_type": "markdown",
   "metadata": {},
   "source": [
    "# ALS"
   ]
  },
  {
   "cell_type": "code",
   "execution_count": 11,
   "metadata": {
    "colab": {
     "referenced_widgets": [
      "f86969ff8f854a2cb5128440a2a2734e"
     ]
    },
    "id": "3DlT5ppEIHyn",
    "outputId": "c5207262-0dfc-4e42-91bc-e9754aad1906"
   },
   "outputs": [
    {
     "data": {
      "application/vnd.jupyter.widget-view+json": {
       "model_id": "e67d49ba223d4ee6abde054552e6e1e1",
       "version_major": 2,
       "version_minor": 0
      },
      "text/plain": [
       "  0%|          | 0/15 [00:00<?, ?it/s]"
      ]
     },
     "metadata": {},
     "output_type": "display_data"
    },
    {
     "name": "stdout",
     "output_type": "stream",
     "text": [
      "Wall time: 1.98 s\n"
     ]
    }
   ],
   "source": [
    "%%time\n",
    "\n",
    "model = AlternatingLeastSquares(factors=100, \n",
    "                                regularization=0.001,\n",
    "                                iterations=15, \n",
    "                                calculate_training_loss=True, \n",
    "                                num_threads=4)\n",
    "\n",
    "model.fit(csr_matrix(user_item_matrix).T.tocsr(),  # На вход item-user matrix\n",
    "          show_progress=True)\n",
    "\n",
    "recs = model.recommend(userid=userid_to_id[2],  # userid - id от 0 до N\n",
    "                        user_items=csr_matrix(user_item_matrix).tocsr(),   # на вход user-item matrix\n",
    "                        N=5, # кол-во рекомендаций \n",
    "                        filter_already_liked_items=False, \n",
    "                        filter_items=None, \n",
    "                        recalculate_user=True)"
   ]
  },
  {
   "cell_type": "code",
   "execution_count": 12,
   "metadata": {
    "id": "NJR0pKy4IHyn",
    "outputId": "f8ea5a18-2e98-43fe-9ec4-5a6f530bf258"
   },
   "outputs": [
    {
     "data": {
      "text/plain": [
       "[1133018, 1106523, 999999, 5569230, 1082185]"
      ]
     },
     "execution_count": 12,
     "metadata": {},
     "output_type": "execute_result"
    }
   ],
   "source": [
    "[id_to_itemid[rec[0]] for rec in recs]"
   ]
  },
  {
   "cell_type": "code",
   "execution_count": 13,
   "metadata": {
    "id": "m2MhJPAcIHyo"
   },
   "outputs": [],
   "source": [
    "def get_recommendations(user, model, N=5):\n",
    "    res = [id_to_itemid[rec[0]] for rec in \n",
    "                    model.recommend(userid=userid_to_id[user], \n",
    "                                    user_items=sparse_user_item,   # на вход user-item matrix\n",
    "                                    N=N, \n",
    "                                    filter_already_liked_items=False, \n",
    "                                    filter_items=None, \n",
    "                                    recalculate_user=True)]\n",
    "    return res"
   ]
  },
  {
   "cell_type": "code",
   "execution_count": 14,
   "metadata": {
    "id": "-zbMDYN4IHyo",
    "outputId": "a042ce17-abe1-4b75-aedb-53a3f5c8d839"
   },
   "outputs": [
    {
     "name": "stdout",
     "output_type": "stream",
     "text": [
      "Wall time: 28.6 s\n"
     ]
    },
    {
     "data": {
      "text/plain": [
       "0.16121449559255632"
      ]
     },
     "execution_count": 14,
     "metadata": {},
     "output_type": "execute_result"
    }
   ],
   "source": [
    "%%time\n",
    "    \n",
    "result['als'] = result['user_id'].apply(lambda x: get_recommendations(x, model=model, N=5))\n",
    "result.apply(lambda row: precision_at_k(row['als'], row['actual']), axis=1).mean()"
   ]
  },
  {
   "cell_type": "code",
   "execution_count": 15,
   "metadata": {
    "id": "9TqsTlZEIHyp",
    "outputId": "e040c9f0-75ff-4b9d-ab7b-329e30dc5e09"
   },
   "outputs": [
    {
     "data": {
      "text/html": [
       "<div>\n",
       "<style scoped>\n",
       "    .dataframe tbody tr th:only-of-type {\n",
       "        vertical-align: middle;\n",
       "    }\n",
       "\n",
       "    .dataframe tbody tr th {\n",
       "        vertical-align: top;\n",
       "    }\n",
       "\n",
       "    .dataframe thead th {\n",
       "        text-align: right;\n",
       "    }\n",
       "</style>\n",
       "<table border=\"1\" class=\"dataframe\">\n",
       "  <thead>\n",
       "    <tr style=\"text-align: right;\">\n",
       "      <th></th>\n",
       "      <th>user_id</th>\n",
       "      <th>actual</th>\n",
       "      <th>als</th>\n",
       "    </tr>\n",
       "  </thead>\n",
       "  <tbody>\n",
       "    <tr>\n",
       "      <th>0</th>\n",
       "      <td>1</td>\n",
       "      <td>[821867, 834484, 856942, 865456, 889248, 90795...</td>\n",
       "      <td>[1033142, 901062, 979707, 995242, 1105488]</td>\n",
       "    </tr>\n",
       "    <tr>\n",
       "      <th>1</th>\n",
       "      <td>3</td>\n",
       "      <td>[835476, 851057, 872021, 878302, 879948, 90963...</td>\n",
       "      <td>[1106523, 929668, 910032, 951590, 1022003]</td>\n",
       "    </tr>\n",
       "  </tbody>\n",
       "</table>\n",
       "</div>"
      ],
      "text/plain": [
       "   user_id                                             actual  \\\n",
       "0        1  [821867, 834484, 856942, 865456, 889248, 90795...   \n",
       "1        3  [835476, 851057, 872021, 878302, 879948, 90963...   \n",
       "\n",
       "                                          als  \n",
       "0  [1033142, 901062, 979707, 995242, 1105488]  \n",
       "1  [1106523, 929668, 910032, 951590, 1022003]  "
      ]
     },
     "execution_count": 15,
     "metadata": {},
     "output_type": "execute_result"
    }
   ],
   "source": [
    "result.head(2)"
   ]
  },
  {
   "cell_type": "markdown",
   "metadata": {
    "id": "R1804WQGIHyp"
   },
   "source": [
    "### Embeddings"
   ]
  },
  {
   "cell_type": "code",
   "execution_count": 16,
   "metadata": {
    "id": "_ULLM3KlIHyp",
    "outputId": "bb1f650b-2d1c-4618-9a20-698cc98e6181"
   },
   "outputs": [
    {
     "data": {
      "text/plain": [
       "(5001, 100)"
      ]
     },
     "execution_count": 16,
     "metadata": {},
     "output_type": "execute_result"
    }
   ],
   "source": [
    "model.item_factors.shape"
   ]
  },
  {
   "cell_type": "code",
   "execution_count": 17,
   "metadata": {},
   "outputs": [
    {
     "data": {
      "text/html": [
       "<div>\n",
       "<style scoped>\n",
       "    .dataframe tbody tr th:only-of-type {\n",
       "        vertical-align: middle;\n",
       "    }\n",
       "\n",
       "    .dataframe tbody tr th {\n",
       "        vertical-align: top;\n",
       "    }\n",
       "\n",
       "    .dataframe thead th {\n",
       "        text-align: right;\n",
       "    }\n",
       "</style>\n",
       "<table border=\"1\" class=\"dataframe\">\n",
       "  <thead>\n",
       "    <tr style=\"text-align: right;\">\n",
       "      <th></th>\n",
       "      <th>0</th>\n",
       "      <th>1</th>\n",
       "      <th>2</th>\n",
       "      <th>3</th>\n",
       "      <th>4</th>\n",
       "      <th>5</th>\n",
       "      <th>6</th>\n",
       "      <th>7</th>\n",
       "      <th>8</th>\n",
       "      <th>9</th>\n",
       "      <th>...</th>\n",
       "      <th>90</th>\n",
       "      <th>91</th>\n",
       "      <th>92</th>\n",
       "      <th>93</th>\n",
       "      <th>94</th>\n",
       "      <th>95</th>\n",
       "      <th>96</th>\n",
       "      <th>97</th>\n",
       "      <th>98</th>\n",
       "      <th>99</th>\n",
       "    </tr>\n",
       "  </thead>\n",
       "  <tbody>\n",
       "    <tr>\n",
       "      <th>0</th>\n",
       "      <td>0.002595</td>\n",
       "      <td>0.002537</td>\n",
       "      <td>0.002881</td>\n",
       "      <td>0.003501</td>\n",
       "      <td>0.002850</td>\n",
       "      <td>0.002029</td>\n",
       "      <td>0.000957</td>\n",
       "      <td>0.003460</td>\n",
       "      <td>0.002722</td>\n",
       "      <td>0.000995</td>\n",
       "      <td>...</td>\n",
       "      <td>0.003475</td>\n",
       "      <td>0.003202</td>\n",
       "      <td>0.003568</td>\n",
       "      <td>-0.000246</td>\n",
       "      <td>0.003606</td>\n",
       "      <td>0.000913</td>\n",
       "      <td>0.002559</td>\n",
       "      <td>0.001651</td>\n",
       "      <td>0.003858</td>\n",
       "      <td>0.004558</td>\n",
       "    </tr>\n",
       "    <tr>\n",
       "      <th>1</th>\n",
       "      <td>0.005574</td>\n",
       "      <td>0.004780</td>\n",
       "      <td>0.004382</td>\n",
       "      <td>0.004936</td>\n",
       "      <td>0.006636</td>\n",
       "      <td>-0.001141</td>\n",
       "      <td>-0.000006</td>\n",
       "      <td>0.000521</td>\n",
       "      <td>0.001281</td>\n",
       "      <td>0.001347</td>\n",
       "      <td>...</td>\n",
       "      <td>0.000829</td>\n",
       "      <td>0.001437</td>\n",
       "      <td>0.000903</td>\n",
       "      <td>0.002198</td>\n",
       "      <td>0.004124</td>\n",
       "      <td>-0.002089</td>\n",
       "      <td>0.004647</td>\n",
       "      <td>0.003064</td>\n",
       "      <td>0.002439</td>\n",
       "      <td>0.007625</td>\n",
       "    </tr>\n",
       "    <tr>\n",
       "      <th>2</th>\n",
       "      <td>0.001873</td>\n",
       "      <td>0.003791</td>\n",
       "      <td>0.003209</td>\n",
       "      <td>0.003242</td>\n",
       "      <td>0.003598</td>\n",
       "      <td>0.002356</td>\n",
       "      <td>0.001314</td>\n",
       "      <td>0.001947</td>\n",
       "      <td>0.001960</td>\n",
       "      <td>-0.000047</td>\n",
       "      <td>...</td>\n",
       "      <td>0.001687</td>\n",
       "      <td>0.001149</td>\n",
       "      <td>0.002679</td>\n",
       "      <td>-0.001328</td>\n",
       "      <td>0.005369</td>\n",
       "      <td>-0.000328</td>\n",
       "      <td>0.004774</td>\n",
       "      <td>0.003377</td>\n",
       "      <td>0.003673</td>\n",
       "      <td>0.005069</td>\n",
       "    </tr>\n",
       "    <tr>\n",
       "      <th>3</th>\n",
       "      <td>0.002792</td>\n",
       "      <td>0.000144</td>\n",
       "      <td>0.002971</td>\n",
       "      <td>0.004849</td>\n",
       "      <td>0.002569</td>\n",
       "      <td>0.002096</td>\n",
       "      <td>0.002674</td>\n",
       "      <td>0.003092</td>\n",
       "      <td>0.003213</td>\n",
       "      <td>0.001462</td>\n",
       "      <td>...</td>\n",
       "      <td>0.003740</td>\n",
       "      <td>0.003439</td>\n",
       "      <td>0.000864</td>\n",
       "      <td>-0.001861</td>\n",
       "      <td>0.003376</td>\n",
       "      <td>0.003002</td>\n",
       "      <td>0.002195</td>\n",
       "      <td>0.001967</td>\n",
       "      <td>0.002520</td>\n",
       "      <td>0.003739</td>\n",
       "    </tr>\n",
       "    <tr>\n",
       "      <th>4</th>\n",
       "      <td>0.002525</td>\n",
       "      <td>0.001911</td>\n",
       "      <td>0.002658</td>\n",
       "      <td>0.003862</td>\n",
       "      <td>0.002471</td>\n",
       "      <td>0.001849</td>\n",
       "      <td>0.001641</td>\n",
       "      <td>0.003168</td>\n",
       "      <td>0.002680</td>\n",
       "      <td>0.001921</td>\n",
       "      <td>...</td>\n",
       "      <td>0.004112</td>\n",
       "      <td>0.003269</td>\n",
       "      <td>0.002648</td>\n",
       "      <td>0.000285</td>\n",
       "      <td>0.003420</td>\n",
       "      <td>0.001312</td>\n",
       "      <td>0.002734</td>\n",
       "      <td>0.001905</td>\n",
       "      <td>0.004510</td>\n",
       "      <td>0.004137</td>\n",
       "    </tr>\n",
       "    <tr>\n",
       "      <th>...</th>\n",
       "      <td>...</td>\n",
       "      <td>...</td>\n",
       "      <td>...</td>\n",
       "      <td>...</td>\n",
       "      <td>...</td>\n",
       "      <td>...</td>\n",
       "      <td>...</td>\n",
       "      <td>...</td>\n",
       "      <td>...</td>\n",
       "      <td>...</td>\n",
       "      <td>...</td>\n",
       "      <td>...</td>\n",
       "      <td>...</td>\n",
       "      <td>...</td>\n",
       "      <td>...</td>\n",
       "      <td>...</td>\n",
       "      <td>...</td>\n",
       "      <td>...</td>\n",
       "      <td>...</td>\n",
       "      <td>...</td>\n",
       "      <td>...</td>\n",
       "    </tr>\n",
       "    <tr>\n",
       "      <th>4996</th>\n",
       "      <td>0.005784</td>\n",
       "      <td>0.005858</td>\n",
       "      <td>0.008794</td>\n",
       "      <td>0.003180</td>\n",
       "      <td>0.019926</td>\n",
       "      <td>-0.000964</td>\n",
       "      <td>0.006843</td>\n",
       "      <td>0.006269</td>\n",
       "      <td>0.003497</td>\n",
       "      <td>0.003190</td>\n",
       "      <td>...</td>\n",
       "      <td>-0.000745</td>\n",
       "      <td>0.007690</td>\n",
       "      <td>0.009387</td>\n",
       "      <td>0.000505</td>\n",
       "      <td>0.010881</td>\n",
       "      <td>0.008444</td>\n",
       "      <td>0.010390</td>\n",
       "      <td>0.004261</td>\n",
       "      <td>0.005243</td>\n",
       "      <td>0.009162</td>\n",
       "    </tr>\n",
       "    <tr>\n",
       "      <th>4997</th>\n",
       "      <td>-0.001191</td>\n",
       "      <td>0.005406</td>\n",
       "      <td>0.005513</td>\n",
       "      <td>0.002963</td>\n",
       "      <td>0.005348</td>\n",
       "      <td>0.005308</td>\n",
       "      <td>0.001789</td>\n",
       "      <td>0.007497</td>\n",
       "      <td>0.005121</td>\n",
       "      <td>0.000397</td>\n",
       "      <td>...</td>\n",
       "      <td>0.005718</td>\n",
       "      <td>0.002395</td>\n",
       "      <td>0.001231</td>\n",
       "      <td>0.003180</td>\n",
       "      <td>0.005790</td>\n",
       "      <td>0.003834</td>\n",
       "      <td>0.001275</td>\n",
       "      <td>0.001818</td>\n",
       "      <td>0.006552</td>\n",
       "      <td>0.006550</td>\n",
       "    </tr>\n",
       "    <tr>\n",
       "      <th>4998</th>\n",
       "      <td>0.002617</td>\n",
       "      <td>0.007167</td>\n",
       "      <td>0.005628</td>\n",
       "      <td>0.005986</td>\n",
       "      <td>0.003419</td>\n",
       "      <td>0.004209</td>\n",
       "      <td>0.000779</td>\n",
       "      <td>0.001116</td>\n",
       "      <td>0.004721</td>\n",
       "      <td>0.001956</td>\n",
       "      <td>...</td>\n",
       "      <td>0.008406</td>\n",
       "      <td>0.005825</td>\n",
       "      <td>0.001646</td>\n",
       "      <td>-0.002451</td>\n",
       "      <td>-0.000427</td>\n",
       "      <td>0.006372</td>\n",
       "      <td>0.000191</td>\n",
       "      <td>-0.001778</td>\n",
       "      <td>0.006149</td>\n",
       "      <td>0.005782</td>\n",
       "    </tr>\n",
       "    <tr>\n",
       "      <th>4999</th>\n",
       "      <td>-0.000064</td>\n",
       "      <td>0.007137</td>\n",
       "      <td>0.011111</td>\n",
       "      <td>0.006730</td>\n",
       "      <td>0.003496</td>\n",
       "      <td>0.004261</td>\n",
       "      <td>0.003358</td>\n",
       "      <td>0.006001</td>\n",
       "      <td>0.001752</td>\n",
       "      <td>0.003989</td>\n",
       "      <td>...</td>\n",
       "      <td>0.008394</td>\n",
       "      <td>0.007460</td>\n",
       "      <td>-0.002406</td>\n",
       "      <td>0.002547</td>\n",
       "      <td>0.006724</td>\n",
       "      <td>0.001466</td>\n",
       "      <td>0.002954</td>\n",
       "      <td>0.002297</td>\n",
       "      <td>0.004534</td>\n",
       "      <td>0.005570</td>\n",
       "    </tr>\n",
       "    <tr>\n",
       "      <th>5000</th>\n",
       "      <td>0.005167</td>\n",
       "      <td>0.007946</td>\n",
       "      <td>0.002283</td>\n",
       "      <td>0.000962</td>\n",
       "      <td>0.008629</td>\n",
       "      <td>0.003647</td>\n",
       "      <td>-0.001294</td>\n",
       "      <td>0.001415</td>\n",
       "      <td>0.004898</td>\n",
       "      <td>-0.001156</td>\n",
       "      <td>...</td>\n",
       "      <td>0.001427</td>\n",
       "      <td>0.006457</td>\n",
       "      <td>0.015037</td>\n",
       "      <td>0.000472</td>\n",
       "      <td>0.002695</td>\n",
       "      <td>-0.001180</td>\n",
       "      <td>0.003927</td>\n",
       "      <td>0.009439</td>\n",
       "      <td>0.006063</td>\n",
       "      <td>-0.000698</td>\n",
       "    </tr>\n",
       "  </tbody>\n",
       "</table>\n",
       "<p>5001 rows × 100 columns</p>\n",
       "</div>"
      ],
      "text/plain": [
       "            0         1         2         3         4         5         6   \\\n",
       "0     0.002595  0.002537  0.002881  0.003501  0.002850  0.002029  0.000957   \n",
       "1     0.005574  0.004780  0.004382  0.004936  0.006636 -0.001141 -0.000006   \n",
       "2     0.001873  0.003791  0.003209  0.003242  0.003598  0.002356  0.001314   \n",
       "3     0.002792  0.000144  0.002971  0.004849  0.002569  0.002096  0.002674   \n",
       "4     0.002525  0.001911  0.002658  0.003862  0.002471  0.001849  0.001641   \n",
       "...        ...       ...       ...       ...       ...       ...       ...   \n",
       "4996  0.005784  0.005858  0.008794  0.003180  0.019926 -0.000964  0.006843   \n",
       "4997 -0.001191  0.005406  0.005513  0.002963  0.005348  0.005308  0.001789   \n",
       "4998  0.002617  0.007167  0.005628  0.005986  0.003419  0.004209  0.000779   \n",
       "4999 -0.000064  0.007137  0.011111  0.006730  0.003496  0.004261  0.003358   \n",
       "5000  0.005167  0.007946  0.002283  0.000962  0.008629  0.003647 -0.001294   \n",
       "\n",
       "            7         8         9   ...        90        91        92  \\\n",
       "0     0.003460  0.002722  0.000995  ...  0.003475  0.003202  0.003568   \n",
       "1     0.000521  0.001281  0.001347  ...  0.000829  0.001437  0.000903   \n",
       "2     0.001947  0.001960 -0.000047  ...  0.001687  0.001149  0.002679   \n",
       "3     0.003092  0.003213  0.001462  ...  0.003740  0.003439  0.000864   \n",
       "4     0.003168  0.002680  0.001921  ...  0.004112  0.003269  0.002648   \n",
       "...        ...       ...       ...  ...       ...       ...       ...   \n",
       "4996  0.006269  0.003497  0.003190  ... -0.000745  0.007690  0.009387   \n",
       "4997  0.007497  0.005121  0.000397  ...  0.005718  0.002395  0.001231   \n",
       "4998  0.001116  0.004721  0.001956  ...  0.008406  0.005825  0.001646   \n",
       "4999  0.006001  0.001752  0.003989  ...  0.008394  0.007460 -0.002406   \n",
       "5000  0.001415  0.004898 -0.001156  ...  0.001427  0.006457  0.015037   \n",
       "\n",
       "            93        94        95        96        97        98        99  \n",
       "0    -0.000246  0.003606  0.000913  0.002559  0.001651  0.003858  0.004558  \n",
       "1     0.002198  0.004124 -0.002089  0.004647  0.003064  0.002439  0.007625  \n",
       "2    -0.001328  0.005369 -0.000328  0.004774  0.003377  0.003673  0.005069  \n",
       "3    -0.001861  0.003376  0.003002  0.002195  0.001967  0.002520  0.003739  \n",
       "4     0.000285  0.003420  0.001312  0.002734  0.001905  0.004510  0.004137  \n",
       "...        ...       ...       ...       ...       ...       ...       ...  \n",
       "4996  0.000505  0.010881  0.008444  0.010390  0.004261  0.005243  0.009162  \n",
       "4997  0.003180  0.005790  0.003834  0.001275  0.001818  0.006552  0.006550  \n",
       "4998 -0.002451 -0.000427  0.006372  0.000191 -0.001778  0.006149  0.005782  \n",
       "4999  0.002547  0.006724  0.001466  0.002954  0.002297  0.004534  0.005570  \n",
       "5000  0.000472  0.002695 -0.001180  0.003927  0.009439  0.006063 -0.000698  \n",
       "\n",
       "[5001 rows x 100 columns]"
      ]
     },
     "execution_count": 17,
     "metadata": {},
     "output_type": "execute_result"
    }
   ],
   "source": [
    "pd.DataFrame(model.item_factors)"
   ]
  },
  {
   "cell_type": "code",
   "execution_count": 18,
   "metadata": {
    "id": "s0uphbU-IHyq",
    "outputId": "5a316e3e-554c-4a06-acab-8e4b7db454ef"
   },
   "outputs": [
    {
     "data": {
      "text/plain": [
       "(2499, 100)"
      ]
     },
     "execution_count": 18,
     "metadata": {},
     "output_type": "execute_result"
    }
   ],
   "source": [
    "model.user_factors.shape"
   ]
  },
  {
   "cell_type": "code",
   "execution_count": 19,
   "metadata": {},
   "outputs": [
    {
     "data": {
      "text/html": [
       "<div>\n",
       "<style scoped>\n",
       "    .dataframe tbody tr th:only-of-type {\n",
       "        vertical-align: middle;\n",
       "    }\n",
       "\n",
       "    .dataframe tbody tr th {\n",
       "        vertical-align: top;\n",
       "    }\n",
       "\n",
       "    .dataframe thead th {\n",
       "        text-align: right;\n",
       "    }\n",
       "</style>\n",
       "<table border=\"1\" class=\"dataframe\">\n",
       "  <thead>\n",
       "    <tr style=\"text-align: right;\">\n",
       "      <th></th>\n",
       "      <th>0</th>\n",
       "      <th>1</th>\n",
       "      <th>2</th>\n",
       "      <th>3</th>\n",
       "      <th>4</th>\n",
       "      <th>5</th>\n",
       "      <th>6</th>\n",
       "      <th>7</th>\n",
       "      <th>8</th>\n",
       "      <th>9</th>\n",
       "      <th>...</th>\n",
       "      <th>90</th>\n",
       "      <th>91</th>\n",
       "      <th>92</th>\n",
       "      <th>93</th>\n",
       "      <th>94</th>\n",
       "      <th>95</th>\n",
       "      <th>96</th>\n",
       "      <th>97</th>\n",
       "      <th>98</th>\n",
       "      <th>99</th>\n",
       "    </tr>\n",
       "  </thead>\n",
       "  <tbody>\n",
       "    <tr>\n",
       "      <th>0</th>\n",
       "      <td>-5.533610</td>\n",
       "      <td>-1.244123</td>\n",
       "      <td>3.647620</td>\n",
       "      <td>-3.465426</td>\n",
       "      <td>4.176145</td>\n",
       "      <td>4.673821</td>\n",
       "      <td>3.025878</td>\n",
       "      <td>1.677840</td>\n",
       "      <td>4.410064</td>\n",
       "      <td>1.637760</td>\n",
       "      <td>...</td>\n",
       "      <td>0.977195</td>\n",
       "      <td>1.824582</td>\n",
       "      <td>-0.745892</td>\n",
       "      <td>2.462938</td>\n",
       "      <td>-10.276577</td>\n",
       "      <td>2.440221</td>\n",
       "      <td>3.437264</td>\n",
       "      <td>2.246860</td>\n",
       "      <td>-6.317629</td>\n",
       "      <td>-3.335329</td>\n",
       "    </tr>\n",
       "    <tr>\n",
       "      <th>1</th>\n",
       "      <td>-4.653710</td>\n",
       "      <td>1.583803</td>\n",
       "      <td>-0.353772</td>\n",
       "      <td>-1.963743</td>\n",
       "      <td>-0.023267</td>\n",
       "      <td>-5.212196</td>\n",
       "      <td>3.826233</td>\n",
       "      <td>1.403129</td>\n",
       "      <td>3.693902</td>\n",
       "      <td>4.658836</td>\n",
       "      <td>...</td>\n",
       "      <td>-2.591563</td>\n",
       "      <td>2.979260</td>\n",
       "      <td>1.101087</td>\n",
       "      <td>5.082142</td>\n",
       "      <td>-5.675248</td>\n",
       "      <td>3.613648</td>\n",
       "      <td>3.415882</td>\n",
       "      <td>0.741720</td>\n",
       "      <td>-5.649833</td>\n",
       "      <td>-5.505031</td>\n",
       "    </tr>\n",
       "    <tr>\n",
       "      <th>2</th>\n",
       "      <td>-2.896051</td>\n",
       "      <td>1.372730</td>\n",
       "      <td>3.853435</td>\n",
       "      <td>-5.619875</td>\n",
       "      <td>1.516135</td>\n",
       "      <td>0.574857</td>\n",
       "      <td>4.893476</td>\n",
       "      <td>-2.421312</td>\n",
       "      <td>2.630573</td>\n",
       "      <td>3.144100</td>\n",
       "      <td>...</td>\n",
       "      <td>0.793437</td>\n",
       "      <td>0.717730</td>\n",
       "      <td>-3.975582</td>\n",
       "      <td>5.917156</td>\n",
       "      <td>-2.519878</td>\n",
       "      <td>4.855261</td>\n",
       "      <td>1.541829</td>\n",
       "      <td>-2.090764</td>\n",
       "      <td>-4.200763</td>\n",
       "      <td>-5.541269</td>\n",
       "    </tr>\n",
       "    <tr>\n",
       "      <th>3</th>\n",
       "      <td>-2.399389</td>\n",
       "      <td>-2.779241</td>\n",
       "      <td>4.500961</td>\n",
       "      <td>-3.424034</td>\n",
       "      <td>1.008843</td>\n",
       "      <td>-1.527565</td>\n",
       "      <td>3.207539</td>\n",
       "      <td>-2.135270</td>\n",
       "      <td>3.529619</td>\n",
       "      <td>-0.628086</td>\n",
       "      <td>...</td>\n",
       "      <td>1.825555</td>\n",
       "      <td>2.111488</td>\n",
       "      <td>-1.237370</td>\n",
       "      <td>1.127756</td>\n",
       "      <td>-4.506385</td>\n",
       "      <td>1.439598</td>\n",
       "      <td>-0.618292</td>\n",
       "      <td>1.069281</td>\n",
       "      <td>-3.530456</td>\n",
       "      <td>-4.376618</td>\n",
       "    </tr>\n",
       "    <tr>\n",
       "      <th>4</th>\n",
       "      <td>-1.853460</td>\n",
       "      <td>-3.883856</td>\n",
       "      <td>3.888297</td>\n",
       "      <td>-3.033930</td>\n",
       "      <td>-1.738357</td>\n",
       "      <td>-0.032498</td>\n",
       "      <td>3.108916</td>\n",
       "      <td>-0.208270</td>\n",
       "      <td>3.567899</td>\n",
       "      <td>-0.186382</td>\n",
       "      <td>...</td>\n",
       "      <td>0.153428</td>\n",
       "      <td>1.000055</td>\n",
       "      <td>-0.873248</td>\n",
       "      <td>1.061721</td>\n",
       "      <td>-2.563605</td>\n",
       "      <td>1.194211</td>\n",
       "      <td>2.156057</td>\n",
       "      <td>-1.598409</td>\n",
       "      <td>-1.663022</td>\n",
       "      <td>-3.261774</td>\n",
       "    </tr>\n",
       "    <tr>\n",
       "      <th>...</th>\n",
       "      <td>...</td>\n",
       "      <td>...</td>\n",
       "      <td>...</td>\n",
       "      <td>...</td>\n",
       "      <td>...</td>\n",
       "      <td>...</td>\n",
       "      <td>...</td>\n",
       "      <td>...</td>\n",
       "      <td>...</td>\n",
       "      <td>...</td>\n",
       "      <td>...</td>\n",
       "      <td>...</td>\n",
       "      <td>...</td>\n",
       "      <td>...</td>\n",
       "      <td>...</td>\n",
       "      <td>...</td>\n",
       "      <td>...</td>\n",
       "      <td>...</td>\n",
       "      <td>...</td>\n",
       "      <td>...</td>\n",
       "      <td>...</td>\n",
       "    </tr>\n",
       "    <tr>\n",
       "      <th>2494</th>\n",
       "      <td>-6.263999</td>\n",
       "      <td>5.237088</td>\n",
       "      <td>6.571896</td>\n",
       "      <td>-4.509651</td>\n",
       "      <td>4.369708</td>\n",
       "      <td>-3.060307</td>\n",
       "      <td>2.919861</td>\n",
       "      <td>-0.099758</td>\n",
       "      <td>1.090185</td>\n",
       "      <td>4.532273</td>\n",
       "      <td>...</td>\n",
       "      <td>-4.452087</td>\n",
       "      <td>-1.256114</td>\n",
       "      <td>3.830178</td>\n",
       "      <td>5.381562</td>\n",
       "      <td>0.706292</td>\n",
       "      <td>8.338105</td>\n",
       "      <td>-0.741955</td>\n",
       "      <td>4.164075</td>\n",
       "      <td>-5.987732</td>\n",
       "      <td>-5.141012</td>\n",
       "    </tr>\n",
       "    <tr>\n",
       "      <th>2495</th>\n",
       "      <td>-4.922060</td>\n",
       "      <td>0.425023</td>\n",
       "      <td>4.055646</td>\n",
       "      <td>0.446111</td>\n",
       "      <td>-1.977989</td>\n",
       "      <td>-6.225476</td>\n",
       "      <td>2.512440</td>\n",
       "      <td>-0.325454</td>\n",
       "      <td>0.530288</td>\n",
       "      <td>2.313180</td>\n",
       "      <td>...</td>\n",
       "      <td>-3.394353</td>\n",
       "      <td>-1.600101</td>\n",
       "      <td>3.263970</td>\n",
       "      <td>3.343231</td>\n",
       "      <td>-4.787452</td>\n",
       "      <td>3.915299</td>\n",
       "      <td>1.488209</td>\n",
       "      <td>2.561021</td>\n",
       "      <td>-2.115213</td>\n",
       "      <td>-6.292969</td>\n",
       "    </tr>\n",
       "    <tr>\n",
       "      <th>2496</th>\n",
       "      <td>0.427371</td>\n",
       "      <td>-0.964604</td>\n",
       "      <td>3.232250</td>\n",
       "      <td>-5.936700</td>\n",
       "      <td>0.411893</td>\n",
       "      <td>-2.021278</td>\n",
       "      <td>3.828076</td>\n",
       "      <td>2.160504</td>\n",
       "      <td>2.193015</td>\n",
       "      <td>0.344686</td>\n",
       "      <td>...</td>\n",
       "      <td>-1.254636</td>\n",
       "      <td>2.421360</td>\n",
       "      <td>5.877125</td>\n",
       "      <td>0.350709</td>\n",
       "      <td>-2.949235</td>\n",
       "      <td>2.858271</td>\n",
       "      <td>2.825163</td>\n",
       "      <td>-3.559732</td>\n",
       "      <td>-5.735360</td>\n",
       "      <td>-2.635737</td>\n",
       "    </tr>\n",
       "    <tr>\n",
       "      <th>2497</th>\n",
       "      <td>-3.091415</td>\n",
       "      <td>2.542504</td>\n",
       "      <td>-4.946664</td>\n",
       "      <td>-4.081262</td>\n",
       "      <td>1.942399</td>\n",
       "      <td>-1.857627</td>\n",
       "      <td>2.023541</td>\n",
       "      <td>-0.619481</td>\n",
       "      <td>4.022779</td>\n",
       "      <td>0.830817</td>\n",
       "      <td>...</td>\n",
       "      <td>-2.453674</td>\n",
       "      <td>1.234821</td>\n",
       "      <td>-0.833112</td>\n",
       "      <td>5.909885</td>\n",
       "      <td>-8.551491</td>\n",
       "      <td>3.406917</td>\n",
       "      <td>4.701176</td>\n",
       "      <td>3.004204</td>\n",
       "      <td>-6.848040</td>\n",
       "      <td>-10.665725</td>\n",
       "    </tr>\n",
       "    <tr>\n",
       "      <th>2498</th>\n",
       "      <td>-4.417369</td>\n",
       "      <td>-6.277973</td>\n",
       "      <td>7.188030</td>\n",
       "      <td>-0.600662</td>\n",
       "      <td>-1.313929</td>\n",
       "      <td>2.014691</td>\n",
       "      <td>-1.117076</td>\n",
       "      <td>0.757082</td>\n",
       "      <td>7.767665</td>\n",
       "      <td>5.474047</td>\n",
       "      <td>...</td>\n",
       "      <td>1.816406</td>\n",
       "      <td>4.124005</td>\n",
       "      <td>-0.575087</td>\n",
       "      <td>6.996810</td>\n",
       "      <td>2.879685</td>\n",
       "      <td>9.660384</td>\n",
       "      <td>3.559469</td>\n",
       "      <td>-1.224650</td>\n",
       "      <td>-7.371834</td>\n",
       "      <td>-8.333434</td>\n",
       "    </tr>\n",
       "  </tbody>\n",
       "</table>\n",
       "<p>2499 rows × 100 columns</p>\n",
       "</div>"
      ],
      "text/plain": [
       "            0         1         2         3         4         5         6   \\\n",
       "0    -5.533610 -1.244123  3.647620 -3.465426  4.176145  4.673821  3.025878   \n",
       "1    -4.653710  1.583803 -0.353772 -1.963743 -0.023267 -5.212196  3.826233   \n",
       "2    -2.896051  1.372730  3.853435 -5.619875  1.516135  0.574857  4.893476   \n",
       "3    -2.399389 -2.779241  4.500961 -3.424034  1.008843 -1.527565  3.207539   \n",
       "4    -1.853460 -3.883856  3.888297 -3.033930 -1.738357 -0.032498  3.108916   \n",
       "...        ...       ...       ...       ...       ...       ...       ...   \n",
       "2494 -6.263999  5.237088  6.571896 -4.509651  4.369708 -3.060307  2.919861   \n",
       "2495 -4.922060  0.425023  4.055646  0.446111 -1.977989 -6.225476  2.512440   \n",
       "2496  0.427371 -0.964604  3.232250 -5.936700  0.411893 -2.021278  3.828076   \n",
       "2497 -3.091415  2.542504 -4.946664 -4.081262  1.942399 -1.857627  2.023541   \n",
       "2498 -4.417369 -6.277973  7.188030 -0.600662 -1.313929  2.014691 -1.117076   \n",
       "\n",
       "            7         8         9   ...        90        91        92  \\\n",
       "0     1.677840  4.410064  1.637760  ...  0.977195  1.824582 -0.745892   \n",
       "1     1.403129  3.693902  4.658836  ... -2.591563  2.979260  1.101087   \n",
       "2    -2.421312  2.630573  3.144100  ...  0.793437  0.717730 -3.975582   \n",
       "3    -2.135270  3.529619 -0.628086  ...  1.825555  2.111488 -1.237370   \n",
       "4    -0.208270  3.567899 -0.186382  ...  0.153428  1.000055 -0.873248   \n",
       "...        ...       ...       ...  ...       ...       ...       ...   \n",
       "2494 -0.099758  1.090185  4.532273  ... -4.452087 -1.256114  3.830178   \n",
       "2495 -0.325454  0.530288  2.313180  ... -3.394353 -1.600101  3.263970   \n",
       "2496  2.160504  2.193015  0.344686  ... -1.254636  2.421360  5.877125   \n",
       "2497 -0.619481  4.022779  0.830817  ... -2.453674  1.234821 -0.833112   \n",
       "2498  0.757082  7.767665  5.474047  ...  1.816406  4.124005 -0.575087   \n",
       "\n",
       "            93         94        95        96        97        98         99  \n",
       "0     2.462938 -10.276577  2.440221  3.437264  2.246860 -6.317629  -3.335329  \n",
       "1     5.082142  -5.675248  3.613648  3.415882  0.741720 -5.649833  -5.505031  \n",
       "2     5.917156  -2.519878  4.855261  1.541829 -2.090764 -4.200763  -5.541269  \n",
       "3     1.127756  -4.506385  1.439598 -0.618292  1.069281 -3.530456  -4.376618  \n",
       "4     1.061721  -2.563605  1.194211  2.156057 -1.598409 -1.663022  -3.261774  \n",
       "...        ...        ...       ...       ...       ...       ...        ...  \n",
       "2494  5.381562   0.706292  8.338105 -0.741955  4.164075 -5.987732  -5.141012  \n",
       "2495  3.343231  -4.787452  3.915299  1.488209  2.561021 -2.115213  -6.292969  \n",
       "2496  0.350709  -2.949235  2.858271  2.825163 -3.559732 -5.735360  -2.635737  \n",
       "2497  5.909885  -8.551491  3.406917  4.701176  3.004204 -6.848040 -10.665725  \n",
       "2498  6.996810   2.879685  9.660384  3.559469 -1.224650 -7.371834  -8.333434  \n",
       "\n",
       "[2499 rows x 100 columns]"
      ]
     },
     "execution_count": 19,
     "metadata": {},
     "output_type": "execute_result"
    }
   ],
   "source": [
    "pd.DataFrame(model.user_factors)"
   ]
  },
  {
   "cell_type": "markdown",
   "metadata": {
    "id": "cf_zr75GIHyq"
   },
   "source": [
    "Можно очень быстро посчитать предсказания, перемножив эти 2 матрицы"
   ]
  },
  {
   "cell_type": "code",
   "execution_count": 20,
   "metadata": {
    "id": "XzuTn_FEIHyq",
    "outputId": "6910419f-dc8a-445e-a90f-2b9ccc2fcd65"
   },
   "outputs": [
    {
     "data": {
      "text/plain": [
       "(2499, 5001)"
      ]
     },
     "execution_count": 20,
     "metadata": {},
     "output_type": "execute_result"
    }
   ],
   "source": [
    "fast_recs = model.user_factors @ model.item_factors.T \n",
    "fast_recs.shape"
   ]
  },
  {
   "cell_type": "code",
   "execution_count": 21,
   "metadata": {},
   "outputs": [
    {
     "data": {
      "text/html": [
       "<div>\n",
       "<style scoped>\n",
       "    .dataframe tbody tr th:only-of-type {\n",
       "        vertical-align: middle;\n",
       "    }\n",
       "\n",
       "    .dataframe tbody tr th {\n",
       "        vertical-align: top;\n",
       "    }\n",
       "\n",
       "    .dataframe thead th {\n",
       "        text-align: right;\n",
       "    }\n",
       "</style>\n",
       "<table border=\"1\" class=\"dataframe\">\n",
       "  <thead>\n",
       "    <tr style=\"text-align: right;\">\n",
       "      <th></th>\n",
       "      <th>0</th>\n",
       "      <th>1</th>\n",
       "      <th>2</th>\n",
       "      <th>3</th>\n",
       "      <th>4</th>\n",
       "      <th>5</th>\n",
       "      <th>6</th>\n",
       "      <th>7</th>\n",
       "      <th>8</th>\n",
       "      <th>9</th>\n",
       "      <th>...</th>\n",
       "      <th>4991</th>\n",
       "      <th>4992</th>\n",
       "      <th>4993</th>\n",
       "      <th>4994</th>\n",
       "      <th>4995</th>\n",
       "      <th>4996</th>\n",
       "      <th>4997</th>\n",
       "      <th>4998</th>\n",
       "      <th>4999</th>\n",
       "      <th>5000</th>\n",
       "    </tr>\n",
       "  </thead>\n",
       "  <tbody>\n",
       "    <tr>\n",
       "      <th>0</th>\n",
       "      <td>0.016004</td>\n",
       "      <td>0.125273</td>\n",
       "      <td>-0.019712</td>\n",
       "      <td>-0.036958</td>\n",
       "      <td>0.012106</td>\n",
       "      <td>0.006508</td>\n",
       "      <td>0.011135</td>\n",
       "      <td>0.245943</td>\n",
       "      <td>0.040481</td>\n",
       "      <td>-0.012640</td>\n",
       "      <td>...</td>\n",
       "      <td>0.133148</td>\n",
       "      <td>0.020977</td>\n",
       "      <td>0.278935</td>\n",
       "      <td>0.108415</td>\n",
       "      <td>0.377984</td>\n",
       "      <td>0.025841</td>\n",
       "      <td>-0.135510</td>\n",
       "      <td>0.041493</td>\n",
       "      <td>0.013424</td>\n",
       "      <td>0.013140</td>\n",
       "    </tr>\n",
       "    <tr>\n",
       "      <th>1</th>\n",
       "      <td>-0.006579</td>\n",
       "      <td>0.048977</td>\n",
       "      <td>-0.011905</td>\n",
       "      <td>-0.013219</td>\n",
       "      <td>-0.009554</td>\n",
       "      <td>-0.004663</td>\n",
       "      <td>-0.012589</td>\n",
       "      <td>0.027351</td>\n",
       "      <td>0.013363</td>\n",
       "      <td>-0.015956</td>\n",
       "      <td>...</td>\n",
       "      <td>-0.005986</td>\n",
       "      <td>0.008369</td>\n",
       "      <td>0.044746</td>\n",
       "      <td>0.063533</td>\n",
       "      <td>0.086264</td>\n",
       "      <td>-0.009421</td>\n",
       "      <td>0.047518</td>\n",
       "      <td>-0.086377</td>\n",
       "      <td>0.063065</td>\n",
       "      <td>0.032548</td>\n",
       "    </tr>\n",
       "    <tr>\n",
       "      <th>2</th>\n",
       "      <td>-0.024475</td>\n",
       "      <td>-0.038051</td>\n",
       "      <td>0.002706</td>\n",
       "      <td>-0.040650</td>\n",
       "      <td>-0.022925</td>\n",
       "      <td>-0.010468</td>\n",
       "      <td>-0.027721</td>\n",
       "      <td>0.118665</td>\n",
       "      <td>0.040428</td>\n",
       "      <td>0.129414</td>\n",
       "      <td>...</td>\n",
       "      <td>-0.024399</td>\n",
       "      <td>-0.033335</td>\n",
       "      <td>0.212000</td>\n",
       "      <td>0.135973</td>\n",
       "      <td>0.053018</td>\n",
       "      <td>0.237069</td>\n",
       "      <td>0.126802</td>\n",
       "      <td>-0.014457</td>\n",
       "      <td>0.061008</td>\n",
       "      <td>-0.019417</td>\n",
       "    </tr>\n",
       "    <tr>\n",
       "      <th>3</th>\n",
       "      <td>-0.000284</td>\n",
       "      <td>0.076424</td>\n",
       "      <td>0.041252</td>\n",
       "      <td>0.055144</td>\n",
       "      <td>0.005193</td>\n",
       "      <td>0.010945</td>\n",
       "      <td>-0.001472</td>\n",
       "      <td>0.100693</td>\n",
       "      <td>0.049393</td>\n",
       "      <td>-0.003772</td>\n",
       "      <td>...</td>\n",
       "      <td>0.044130</td>\n",
       "      <td>0.053829</td>\n",
       "      <td>-0.014125</td>\n",
       "      <td>-0.034342</td>\n",
       "      <td>0.032732</td>\n",
       "      <td>0.035090</td>\n",
       "      <td>0.041591</td>\n",
       "      <td>0.066058</td>\n",
       "      <td>0.039435</td>\n",
       "      <td>0.050347</td>\n",
       "    </tr>\n",
       "    <tr>\n",
       "      <th>4</th>\n",
       "      <td>-0.001536</td>\n",
       "      <td>0.017813</td>\n",
       "      <td>-0.013175</td>\n",
       "      <td>0.030200</td>\n",
       "      <td>0.004313</td>\n",
       "      <td>-0.003367</td>\n",
       "      <td>-0.003044</td>\n",
       "      <td>0.016749</td>\n",
       "      <td>0.020861</td>\n",
       "      <td>0.019218</td>\n",
       "      <td>...</td>\n",
       "      <td>-0.004821</td>\n",
       "      <td>0.004831</td>\n",
       "      <td>0.014055</td>\n",
       "      <td>0.063921</td>\n",
       "      <td>0.019349</td>\n",
       "      <td>-0.043984</td>\n",
       "      <td>0.066876</td>\n",
       "      <td>-0.010463</td>\n",
       "      <td>0.028708</td>\n",
       "      <td>-0.021741</td>\n",
       "    </tr>\n",
       "    <tr>\n",
       "      <th>...</th>\n",
       "      <td>...</td>\n",
       "      <td>...</td>\n",
       "      <td>...</td>\n",
       "      <td>...</td>\n",
       "      <td>...</td>\n",
       "      <td>...</td>\n",
       "      <td>...</td>\n",
       "      <td>...</td>\n",
       "      <td>...</td>\n",
       "      <td>...</td>\n",
       "      <td>...</td>\n",
       "      <td>...</td>\n",
       "      <td>...</td>\n",
       "      <td>...</td>\n",
       "      <td>...</td>\n",
       "      <td>...</td>\n",
       "      <td>...</td>\n",
       "      <td>...</td>\n",
       "      <td>...</td>\n",
       "      <td>...</td>\n",
       "      <td>...</td>\n",
       "    </tr>\n",
       "    <tr>\n",
       "      <th>2494</th>\n",
       "      <td>0.017828</td>\n",
       "      <td>0.135083</td>\n",
       "      <td>0.073433</td>\n",
       "      <td>0.031076</td>\n",
       "      <td>0.009063</td>\n",
       "      <td>0.030089</td>\n",
       "      <td>-0.005092</td>\n",
       "      <td>0.091542</td>\n",
       "      <td>-0.017290</td>\n",
       "      <td>-0.083976</td>\n",
       "      <td>...</td>\n",
       "      <td>0.094108</td>\n",
       "      <td>-0.097038</td>\n",
       "      <td>0.138202</td>\n",
       "      <td>0.167382</td>\n",
       "      <td>0.102155</td>\n",
       "      <td>0.346583</td>\n",
       "      <td>0.094482</td>\n",
       "      <td>-0.005591</td>\n",
       "      <td>0.147065</td>\n",
       "      <td>0.178783</td>\n",
       "    </tr>\n",
       "    <tr>\n",
       "      <th>2495</th>\n",
       "      <td>0.032701</td>\n",
       "      <td>0.072376</td>\n",
       "      <td>0.079251</td>\n",
       "      <td>-0.062590</td>\n",
       "      <td>0.009816</td>\n",
       "      <td>0.023352</td>\n",
       "      <td>0.033801</td>\n",
       "      <td>0.089699</td>\n",
       "      <td>0.059467</td>\n",
       "      <td>0.149127</td>\n",
       "      <td>...</td>\n",
       "      <td>-0.031788</td>\n",
       "      <td>0.403875</td>\n",
       "      <td>0.036054</td>\n",
       "      <td>0.155130</td>\n",
       "      <td>0.097765</td>\n",
       "      <td>0.165256</td>\n",
       "      <td>0.075435</td>\n",
       "      <td>0.034579</td>\n",
       "      <td>0.076448</td>\n",
       "      <td>0.149003</td>\n",
       "    </tr>\n",
       "    <tr>\n",
       "      <th>2496</th>\n",
       "      <td>0.051617</td>\n",
       "      <td>0.092573</td>\n",
       "      <td>0.009500</td>\n",
       "      <td>0.023383</td>\n",
       "      <td>0.009213</td>\n",
       "      <td>0.007216</td>\n",
       "      <td>0.017809</td>\n",
       "      <td>-0.112106</td>\n",
       "      <td>0.086922</td>\n",
       "      <td>-0.003313</td>\n",
       "      <td>...</td>\n",
       "      <td>0.047598</td>\n",
       "      <td>0.112089</td>\n",
       "      <td>0.026510</td>\n",
       "      <td>0.099721</td>\n",
       "      <td>0.136179</td>\n",
       "      <td>0.235242</td>\n",
       "      <td>0.062444</td>\n",
       "      <td>0.057431</td>\n",
       "      <td>0.058428</td>\n",
       "      <td>0.107367</td>\n",
       "    </tr>\n",
       "    <tr>\n",
       "      <th>2497</th>\n",
       "      <td>-0.024819</td>\n",
       "      <td>0.023672</td>\n",
       "      <td>0.006444</td>\n",
       "      <td>-0.059663</td>\n",
       "      <td>-0.026772</td>\n",
       "      <td>-0.014017</td>\n",
       "      <td>-0.007377</td>\n",
       "      <td>0.119600</td>\n",
       "      <td>0.250130</td>\n",
       "      <td>0.051288</td>\n",
       "      <td>...</td>\n",
       "      <td>-0.023332</td>\n",
       "      <td>-0.009231</td>\n",
       "      <td>0.059431</td>\n",
       "      <td>-0.035817</td>\n",
       "      <td>0.088926</td>\n",
       "      <td>0.078130</td>\n",
       "      <td>0.210441</td>\n",
       "      <td>0.099533</td>\n",
       "      <td>0.065805</td>\n",
       "      <td>0.244531</td>\n",
       "    </tr>\n",
       "    <tr>\n",
       "      <th>2498</th>\n",
       "      <td>0.008513</td>\n",
       "      <td>-0.026180</td>\n",
       "      <td>-0.030727</td>\n",
       "      <td>0.090201</td>\n",
       "      <td>0.013091</td>\n",
       "      <td>-0.001286</td>\n",
       "      <td>-0.005618</td>\n",
       "      <td>-0.057689</td>\n",
       "      <td>0.163085</td>\n",
       "      <td>0.014679</td>\n",
       "      <td>...</td>\n",
       "      <td>0.038652</td>\n",
       "      <td>0.084242</td>\n",
       "      <td>0.169391</td>\n",
       "      <td>0.118831</td>\n",
       "      <td>0.185450</td>\n",
       "      <td>0.088548</td>\n",
       "      <td>0.086998</td>\n",
       "      <td>0.020605</td>\n",
       "      <td>0.164615</td>\n",
       "      <td>-0.059181</td>\n",
       "    </tr>\n",
       "  </tbody>\n",
       "</table>\n",
       "<p>2499 rows × 5001 columns</p>\n",
       "</div>"
      ],
      "text/plain": [
       "          0         1         2         3         4         5         6     \\\n",
       "0     0.016004  0.125273 -0.019712 -0.036958  0.012106  0.006508  0.011135   \n",
       "1    -0.006579  0.048977 -0.011905 -0.013219 -0.009554 -0.004663 -0.012589   \n",
       "2    -0.024475 -0.038051  0.002706 -0.040650 -0.022925 -0.010468 -0.027721   \n",
       "3    -0.000284  0.076424  0.041252  0.055144  0.005193  0.010945 -0.001472   \n",
       "4    -0.001536  0.017813 -0.013175  0.030200  0.004313 -0.003367 -0.003044   \n",
       "...        ...       ...       ...       ...       ...       ...       ...   \n",
       "2494  0.017828  0.135083  0.073433  0.031076  0.009063  0.030089 -0.005092   \n",
       "2495  0.032701  0.072376  0.079251 -0.062590  0.009816  0.023352  0.033801   \n",
       "2496  0.051617  0.092573  0.009500  0.023383  0.009213  0.007216  0.017809   \n",
       "2497 -0.024819  0.023672  0.006444 -0.059663 -0.026772 -0.014017 -0.007377   \n",
       "2498  0.008513 -0.026180 -0.030727  0.090201  0.013091 -0.001286 -0.005618   \n",
       "\n",
       "          7         8         9     ...      4991      4992      4993  \\\n",
       "0     0.245943  0.040481 -0.012640  ...  0.133148  0.020977  0.278935   \n",
       "1     0.027351  0.013363 -0.015956  ... -0.005986  0.008369  0.044746   \n",
       "2     0.118665  0.040428  0.129414  ... -0.024399 -0.033335  0.212000   \n",
       "3     0.100693  0.049393 -0.003772  ...  0.044130  0.053829 -0.014125   \n",
       "4     0.016749  0.020861  0.019218  ... -0.004821  0.004831  0.014055   \n",
       "...        ...       ...       ...  ...       ...       ...       ...   \n",
       "2494  0.091542 -0.017290 -0.083976  ...  0.094108 -0.097038  0.138202   \n",
       "2495  0.089699  0.059467  0.149127  ... -0.031788  0.403875  0.036054   \n",
       "2496 -0.112106  0.086922 -0.003313  ...  0.047598  0.112089  0.026510   \n",
       "2497  0.119600  0.250130  0.051288  ... -0.023332 -0.009231  0.059431   \n",
       "2498 -0.057689  0.163085  0.014679  ...  0.038652  0.084242  0.169391   \n",
       "\n",
       "          4994      4995      4996      4997      4998      4999      5000  \n",
       "0     0.108415  0.377984  0.025841 -0.135510  0.041493  0.013424  0.013140  \n",
       "1     0.063533  0.086264 -0.009421  0.047518 -0.086377  0.063065  0.032548  \n",
       "2     0.135973  0.053018  0.237069  0.126802 -0.014457  0.061008 -0.019417  \n",
       "3    -0.034342  0.032732  0.035090  0.041591  0.066058  0.039435  0.050347  \n",
       "4     0.063921  0.019349 -0.043984  0.066876 -0.010463  0.028708 -0.021741  \n",
       "...        ...       ...       ...       ...       ...       ...       ...  \n",
       "2494  0.167382  0.102155  0.346583  0.094482 -0.005591  0.147065  0.178783  \n",
       "2495  0.155130  0.097765  0.165256  0.075435  0.034579  0.076448  0.149003  \n",
       "2496  0.099721  0.136179  0.235242  0.062444  0.057431  0.058428  0.107367  \n",
       "2497 -0.035817  0.088926  0.078130  0.210441  0.099533  0.065805  0.244531  \n",
       "2498  0.118831  0.185450  0.088548  0.086998  0.020605  0.164615 -0.059181  \n",
       "\n",
       "[2499 rows x 5001 columns]"
      ]
     },
     "execution_count": 21,
     "metadata": {},
     "output_type": "execute_result"
    }
   ],
   "source": [
    "pd.DataFrame(fast_recs)"
   ]
  },
  {
   "cell_type": "code",
   "execution_count": 22,
   "metadata": {
    "id": "V6d15toQIHyr"
   },
   "outputs": [],
   "source": [
    "import numpy as np\n",
    "import pandas as pd\n",
    "from matplotlib.pyplot import cm\n",
    "import pickle\n",
    "\n",
    "from scipy.spatial.distance import cdist\n",
    "\n",
    "from sklearn.decomposition import PCA\n",
    "from sklearn.manifold import TSNE\n",
    "\n",
    "import seaborn as sns\n",
    "\n",
    "\n",
    "def reduce_dims(df, dims=2, method='pca'):\n",
    "    \n",
    "    assert method in ['pca', 'tsne'], 'Неверно указан метод'\n",
    "    \n",
    "    if method=='pca':\n",
    "        pca = PCA(n_components=dims)\n",
    "        components = pca.fit_transform(df)\n",
    "    elif method == 'tsne':\n",
    "        tsne = TSNE(n_components=dims, learning_rate=250, random_state=42)\n",
    "        components = tsne.fit_transform(df)\n",
    "    else:\n",
    "        print('Error')\n",
    "        \n",
    "    colnames = ['component_' + str(i) for i in range(1, dims+1)]\n",
    "    return pd.DataFrame(data = components, columns = colnames) \n",
    "\n",
    "\n",
    "def display_components_in_2D_space(components_df, labels='category', marker='D'):\n",
    "    \n",
    "    groups = components_df.groupby(labels)\n",
    "\n",
    "    # Plot\n",
    "    fig, ax = plt.subplots(figsize=(12,8))\n",
    "    ax.margins(0.05) # Optional, just adds 5% padding to the autoscaling\n",
    "    for name, group in groups:\n",
    "        ax.plot(group.component_1, group.component_2, \n",
    "                marker='o', ms=6,\n",
    "                linestyle='',\n",
    "                alpha=0.7,\n",
    "                label=name)\n",
    "    ax.legend(loc='center left', bbox_to_anchor=(1.02, 0.5))\n",
    "\n",
    "    plt.xlabel('component_1')\n",
    "    plt.ylabel('component_2') \n",
    "    plt.show()"
   ]
  },
  {
   "cell_type": "code",
   "execution_count": 23,
   "metadata": {
    "id": "Gbb8mdmQIHys",
    "outputId": "af54bb77-0188-4a4b-85bc-d0bb144c47fc"
   },
   "outputs": [
    {
     "data": {
      "text/plain": [
       "(5001, 100)"
      ]
     },
     "execution_count": 23,
     "metadata": {},
     "output_type": "execute_result"
    }
   ],
   "source": [
    "model.item_factors.shape"
   ]
  },
  {
   "cell_type": "code",
   "execution_count": 50,
   "metadata": {
    "id": "xhT9pq1kIHyt"
   },
   "outputs": [],
   "source": [
    "category = []\n",
    "\n",
    "for idx in range(model.item_factors.shape[0]):\n",
    "\n",
    "    try:\n",
    "        cat = item_features.loc[item_features['item_id'] == id_to_itemid[idx], 'department'].values[0]\n",
    "        category.append(cat)\n",
    "    except:\n",
    "        category.append('UNKNOWN')"
   ]
  },
  {
   "cell_type": "code",
   "execution_count": 51,
   "metadata": {},
   "outputs": [
    {
     "name": "stdout",
     "output_type": "stream",
     "text": [
      "['MISC SALES TRAN', 'KIOSK-GAS', 'MISC SALES TRAN', 'KIOSK-GAS', 'MISC SALES TRAN', 'MISC SALES TRAN', 'KIOSK-GAS', 'GROCERY', 'GROCERY', 'GROCERY']\n"
     ]
    }
   ],
   "source": [
    "print(category[:10])"
   ]
  },
  {
   "cell_type": "code",
   "execution_count": 52,
   "metadata": {
    "id": "B8oxR_P0IHyt",
    "outputId": "9f7f6460-25fc-4d01-b1c0-37854888c692"
   },
   "outputs": [
    {
     "data": {
      "image/png": "[encoded data removed]",
      "text/plain": [
       "<Figure size 864x576 with 1 Axes>"
      ]
     },
     "metadata": {
      "needs_background": "light"
     },
     "output_type": "display_data"
    },
    {
     "name": "stdout",
     "output_type": "stream",
     "text": [
      "Wall time: 16.4 s\n"
     ]
    }
   ],
   "source": [
    "%%time\n",
    "item_emb_tsne = reduce_dims(model.item_factors, dims=2, method='tsne') # 5001 х 100  ---> 5001 x 2\n",
    "item_emb_tsne['category'] = category  # Добавляем категорию\n",
    "item_emb_tsne = item_emb_tsne[item_emb_tsne['category'] != 'UNKNOWN']\n",
    "\n",
    "display_components_in_2D_space(item_emb_tsne, labels='category')"
   ]
  },
  {
   "cell_type": "markdown",
   "metadata": {
    "id": "21LfCjpxIHyt"
   },
   "source": [
    "Нарисуем все, кроме GROCERY"
   ]
  },
  {
   "cell_type": "code",
   "execution_count": 53,
   "metadata": {
    "id": "BNy3Fb1DIHyu",
    "outputId": "cd92302c-3a4e-4345-9c8e-e95a4fa44770"
   },
   "outputs": [
    {
     "data": {
      "image/png": "[encoded data removed]",
      "text/plain": [
       "<Figure size 864x576 with 1 Axes>"
      ]
     },
     "metadata": {
      "needs_background": "light"
     },
     "output_type": "display_data"
    }
   ],
   "source": [
    "display_components_in_2D_space(item_emb_tsne[item_emb_tsne['category'] != 'GROCERY'], labels='category')"
   ]
  },
  {
   "cell_type": "markdown",
   "metadata": {
    "id": "DxZJ7HCOIHyu"
   },
   "source": [
    "Нарисуем несколько конкретных категорий"
   ]
  },
  {
   "cell_type": "code",
   "execution_count": 28,
   "metadata": {
    "id": "FeQlyTdTIHyu",
    "outputId": "e6aab935-1525-4202-b2a4-f2a352fd17e3"
   },
   "outputs": [
    {
     "data": {
      "image/png": "[encoded data removed]",
      "text/plain": [
       "<Figure size 864x576 with 1 Axes>"
      ]
     },
     "metadata": {
      "needs_background": "light"
     },
     "output_type": "display_data"
    }
   ],
   "source": [
    "interesting_cats = ['PASTRY', 'PRODUCE', 'DRUG GM', 'FLORAL']\n",
    "\n",
    "display_components_in_2D_space(item_emb_tsne[item_emb_tsne['category'].isin(interesting_cats)], \n",
    "                                             labels='category')"
   ]
  },
  {
   "cell_type": "code",
   "execution_count": 45,
   "metadata": {},
   "outputs": [
    {
     "data": {
      "image/png": "[encoded data removed]",
      "text/plain": [
       "<Figure size 864x576 with 1 Axes>"
      ]
     },
     "metadata": {
      "needs_background": "light"
     },
     "output_type": "display_data"
    }
   ],
   "source": [
    "interesting_cats = ['PASTRY', 'PRODUCE', 'DRUG GM', 'FLORAL']\n",
    "\n",
    "display_components_in_2D_space(item_emb_tsne[item_emb_tsne['category'].isin(interesting_cats)], \n",
    "                                             labels='category')"
   ]
  },
  {
   "cell_type": "code",
   "execution_count": 54,
   "metadata": {},
   "outputs": [
    {
     "data": {
      "image/png": "[encoded data removed]",
      "text/plain": [
       "<Figure size 864x576 with 1 Axes>"
      ]
     },
     "metadata": {
      "needs_background": "light"
     },
     "output_type": "display_data"
    }
   ],
   "source": [
    "interesting_cats = ['PASTRY', 'PRODUCE', 'DRUG GM', 'FLORAL']\n",
    "\n",
    "display_components_in_2D_space(item_emb_tsne[item_emb_tsne['category'].isin(interesting_cats)], \n",
    "                                             labels='category')"
   ]
  },
  {
   "cell_type": "markdown",
   "metadata": {
    "id": "eelXXrgiIHyv"
   },
   "source": [
    "На самом деле, я бы сказал, что **результат средний**:\n",
    "- Модель выучила похожесть только небольшой части товаров"
   ]
  },
  {
   "cell_type": "code",
   "execution_count": 30,
   "metadata": {
    "id": "xK9UDIfsIHyv",
    "outputId": "ef3fab8f-4734-4ad1-e47a-f7400e19ca81"
   },
   "outputs": [
    {
     "data": {
      "text/html": [
       "<div>\n",
       "<style scoped>\n",
       "    .dataframe tbody tr th:only-of-type {\n",
       "        vertical-align: middle;\n",
       "    }\n",
       "\n",
       "    .dataframe tbody tr th {\n",
       "        vertical-align: top;\n",
       "    }\n",
       "\n",
       "    .dataframe thead th {\n",
       "        text-align: right;\n",
       "    }\n",
       "</style>\n",
       "<table border=\"1\" class=\"dataframe\">\n",
       "  <thead>\n",
       "    <tr style=\"text-align: right;\">\n",
       "      <th></th>\n",
       "      <th>component_1</th>\n",
       "      <th>component_2</th>\n",
       "      <th>category</th>\n",
       "    </tr>\n",
       "  </thead>\n",
       "  <tbody>\n",
       "    <tr>\n",
       "      <th>0</th>\n",
       "      <td>12.297419</td>\n",
       "      <td>0.326980</td>\n",
       "      <td>MISC SALES TRAN</td>\n",
       "    </tr>\n",
       "    <tr>\n",
       "      <th>1</th>\n",
       "      <td>14.240332</td>\n",
       "      <td>-0.516227</td>\n",
       "      <td>KIOSK-GAS</td>\n",
       "    </tr>\n",
       "  </tbody>\n",
       "</table>\n",
       "</div>"
      ],
      "text/plain": [
       "   component_1  component_2         category\n",
       "0    12.297419     0.326980  MISC SALES TRAN\n",
       "1    14.240332    -0.516227        KIOSK-GAS"
      ]
     },
     "execution_count": 30,
     "metadata": {},
     "output_type": "execute_result"
    }
   ],
   "source": [
    "item_emb_tsne.head(2)"
   ]
  },
  {
   "cell_type": "markdown",
   "metadata": {
    "id": "EQOQN7D5IHyw"
   },
   "source": [
    "recommend_all делает перемножение, но еще и сортирует и выбирает топ-N"
   ]
  },
  {
   "cell_type": "code",
   "execution_count": 29,
   "metadata": {
    "colab": {
     "referenced_widgets": [
      "7d500b748414417f93b8f936f582ba96"
     ]
    },
    "id": "s8sUJSCzIHyw",
    "outputId": "192a9709-cc88-4492-d321-8e2063e1ec67"
   },
   "outputs": [
    {
     "data": {
      "application/vnd.jupyter.widget-view+json": {
       "model_id": "1a15f09a3e7e44a1bbf4d12ecb21242c",
       "version_major": 2,
       "version_minor": 0
      },
      "text/plain": [
       "  0%|          | 0/2499 [00:00<?, ?it/s]"
      ]
     },
     "metadata": {},
     "output_type": "display_data"
    },
    {
     "name": "stdout",
     "output_type": "stream",
     "text": [
      "Wall time: 18.5 s\n"
     ]
    }
   ],
   "source": [
    "%%time\n",
    "recommendations = model.recommend_all(N=5, \n",
    "                                      user_items=csr_matrix(user_item_matrix).tocsr(),\n",
    "                                      filter_already_liked_items=True, \n",
    "                                      filter_items=None, \n",
    "                                      recalculate_user=True,\n",
    "                                      show_progress=True,\n",
    "                                      batch_size=500)"
   ]
  },
  {
   "cell_type": "code",
   "execution_count": 30,
   "metadata": {},
   "outputs": [
    {
     "data": {
      "text/plain": [
       "(2499, 5)"
      ]
     },
     "execution_count": 30,
     "metadata": {},
     "output_type": "execute_result"
    }
   ],
   "source": [
    "recommendations.shape"
   ]
  },
  {
   "cell_type": "code",
   "execution_count": 31,
   "metadata": {},
   "outputs": [
    {
     "data": {
      "text/html": [
       "<div>\n",
       "<style scoped>\n",
       "    .dataframe tbody tr th:only-of-type {\n",
       "        vertical-align: middle;\n",
       "    }\n",
       "\n",
       "    .dataframe tbody tr th {\n",
       "        vertical-align: top;\n",
       "    }\n",
       "\n",
       "    .dataframe thead th {\n",
       "        text-align: right;\n",
       "    }\n",
       "</style>\n",
       "<table border=\"1\" class=\"dataframe\">\n",
       "  <thead>\n",
       "    <tr style=\"text-align: right;\">\n",
       "      <th></th>\n",
       "      <th>0</th>\n",
       "      <th>1</th>\n",
       "      <th>2</th>\n",
       "      <th>3</th>\n",
       "      <th>4</th>\n",
       "    </tr>\n",
       "  </thead>\n",
       "  <tbody>\n",
       "    <tr>\n",
       "      <th>0</th>\n",
       "      <td>3616</td>\n",
       "      <td>192</td>\n",
       "      <td>3031</td>\n",
       "      <td>832</td>\n",
       "      <td>671</td>\n",
       "    </tr>\n",
       "    <tr>\n",
       "      <th>1</th>\n",
       "      <td>2148</td>\n",
       "      <td>2927</td>\n",
       "      <td>2307</td>\n",
       "      <td>215</td>\n",
       "      <td>4346</td>\n",
       "    </tr>\n",
       "    <tr>\n",
       "      <th>2</th>\n",
       "      <td>1516</td>\n",
       "      <td>558</td>\n",
       "      <td>3388</td>\n",
       "      <td>3029</td>\n",
       "      <td>1242</td>\n",
       "    </tr>\n",
       "    <tr>\n",
       "      <th>3</th>\n",
       "      <td>3408</td>\n",
       "      <td>1801</td>\n",
       "      <td>3587</td>\n",
       "      <td>110</td>\n",
       "      <td>4346</td>\n",
       "    </tr>\n",
       "    <tr>\n",
       "      <th>4</th>\n",
       "      <td>3408</td>\n",
       "      <td>2148</td>\n",
       "      <td>2307</td>\n",
       "      <td>3133</td>\n",
       "      <td>4346</td>\n",
       "    </tr>\n",
       "    <tr>\n",
       "      <th>...</th>\n",
       "      <td>...</td>\n",
       "      <td>...</td>\n",
       "      <td>...</td>\n",
       "      <td>...</td>\n",
       "      <td>...</td>\n",
       "    </tr>\n",
       "    <tr>\n",
       "      <th>2494</th>\n",
       "      <td>1923</td>\n",
       "      <td>2434</td>\n",
       "      <td>1927</td>\n",
       "      <td>2302</td>\n",
       "      <td>4287</td>\n",
       "    </tr>\n",
       "    <tr>\n",
       "      <th>2495</th>\n",
       "      <td>2765</td>\n",
       "      <td>2903</td>\n",
       "      <td>3200</td>\n",
       "      <td>2059</td>\n",
       "      <td>2911</td>\n",
       "    </tr>\n",
       "    <tr>\n",
       "      <th>2496</th>\n",
       "      <td>4346</td>\n",
       "      <td>3587</td>\n",
       "      <td>2148</td>\n",
       "      <td>1349</td>\n",
       "      <td>2307</td>\n",
       "    </tr>\n",
       "    <tr>\n",
       "      <th>2497</th>\n",
       "      <td>300</td>\n",
       "      <td>3704</td>\n",
       "      <td>2847</td>\n",
       "      <td>3322</td>\n",
       "      <td>1908</td>\n",
       "    </tr>\n",
       "    <tr>\n",
       "      <th>2498</th>\n",
       "      <td>558</td>\n",
       "      <td>2696</td>\n",
       "      <td>2454</td>\n",
       "      <td>4060</td>\n",
       "      <td>2216</td>\n",
       "    </tr>\n",
       "  </tbody>\n",
       "</table>\n",
       "<p>2499 rows × 5 columns</p>\n",
       "</div>"
      ],
      "text/plain": [
       "         0     1     2     3     4\n",
       "0     3616   192  3031   832   671\n",
       "1     2148  2927  2307   215  4346\n",
       "2     1516   558  3388  3029  1242\n",
       "3     3408  1801  3587   110  4346\n",
       "4     3408  2148  2307  3133  4346\n",
       "...    ...   ...   ...   ...   ...\n",
       "2494  1923  2434  1927  2302  4287\n",
       "2495  2765  2903  3200  2059  2911\n",
       "2496  4346  3587  2148  1349  2307\n",
       "2497   300  3704  2847  3322  1908\n",
       "2498   558  2696  2454  4060  2216\n",
       "\n",
       "[2499 rows x 5 columns]"
      ]
     },
     "execution_count": 31,
     "metadata": {},
     "output_type": "execute_result"
    }
   ],
   "source": [
    "pd.DataFrame(recommendations)"
   ]
  },
  {
   "cell_type": "code",
   "execution_count": 32,
   "metadata": {
    "id": "ZqpPTlojIHyx"
   },
   "outputs": [],
   "source": [
    "item_1 = model.item_factors[1]\n",
    "item_2 = model.item_factors[2]"
   ]
  },
  {
   "cell_type": "code",
   "execution_count": 33,
   "metadata": {},
   "outputs": [
    {
     "data": {
      "text/plain": [
       "(100,)"
      ]
     },
     "execution_count": 33,
     "metadata": {},
     "output_type": "execute_result"
    }
   ],
   "source": [
    "item_1.shape"
   ]
  },
  {
   "cell_type": "code",
   "execution_count": 34,
   "metadata": {},
   "outputs": [
    {
     "data": {
      "text/plain": [
       "array([ 5.5735284e-03,  4.7800369e-03,  4.3819756e-03,  4.9363025e-03,\n",
       "        6.6364431e-03, -1.1413500e-03, -5.6522481e-06,  5.2113982e-04,\n",
       "        1.2814823e-03,  1.3467490e-03, -3.3641688e-03, -1.6055908e-03,\n",
       "        4.5202370e-03, -7.1183947e-04,  5.3621731e-03,  9.5316078e-05,\n",
       "        2.6770425e-03,  6.0558310e-03,  7.1317507e-03,  4.9764542e-03,\n",
       "        5.6074946e-03,  2.9494921e-03,  8.2922373e-03,  6.7163389e-03,\n",
       "        1.0934239e-03,  6.3508698e-03, -2.9752257e-03,  4.6817684e-03,\n",
       "        6.4400109e-03,  5.1948968e-03,  6.0241222e-03, -8.0646476e-04,\n",
       "        3.3057213e-03,  2.5251685e-03,  4.0002195e-03,  1.5783386e-04,\n",
       "        3.9336719e-03,  6.9466385e-04,  2.1923156e-03,  3.1077245e-03,\n",
       "        3.5442456e-03,  5.9795431e-03, -5.0588637e-03,  3.1731231e-03,\n",
       "        7.0860288e-03,  2.4239111e-03,  3.2162978e-03,  1.4501369e-04,\n",
       "        8.8983978e-04,  3.3461007e-03,  6.4688446e-03,  7.0710378e-03,\n",
       "        1.9339226e-03,  1.0675266e-04,  3.7136988e-03,  8.9588191e-04,\n",
       "        6.9169588e-03,  8.1993630e-03,  5.0060870e-04,  3.2178260e-04,\n",
       "        6.8449331e-03,  2.4095790e-03,  3.6067120e-03,  6.9591175e-03,\n",
       "        5.6319200e-03, -1.0889127e-03, -3.2885778e-03,  6.0047070e-03,\n",
       "        1.3225192e-04,  2.6937437e-03,  6.4289956e-03,  3.1473712e-04,\n",
       "        4.4306070e-03,  6.6949986e-03,  9.9297091e-03,  4.4350368e-03,\n",
       "        5.9540677e-03,  3.2715863e-03,  6.5672346e-03, -1.8471051e-03,\n",
       "        4.5104846e-03,  3.4097985e-03,  6.0772449e-03,  2.0136165e-03,\n",
       "       -7.1988907e-04,  3.0513180e-03,  8.4742333e-04,  3.9979233e-03,\n",
       "        2.4008029e-03, -2.1102440e-03,  8.2885765e-04,  1.4365272e-03,\n",
       "        9.0281648e-04,  2.1978160e-03,  4.1238163e-03, -2.0886441e-03,\n",
       "        4.6471581e-03,  3.0644648e-03,  2.4390020e-03,  7.6253088e-03],\n",
       "      dtype=float32)"
      ]
     },
     "execution_count": 34,
     "metadata": {},
     "output_type": "execute_result"
    }
   ],
   "source": [
    "item_1"
   ]
  },
  {
   "cell_type": "markdown",
   "metadata": {
    "id": "IDtmV7QxIHyx"
   },
   "source": [
    "*Посмотрите также / Похожие товары*"
   ]
  },
  {
   "cell_type": "code",
   "execution_count": 35,
   "metadata": {},
   "outputs": [],
   "source": [
    "example_item_row_id = 3606"
   ]
  },
  {
   "cell_type": "code",
   "execution_count": 36,
   "metadata": {
    "id": "FG43lphYIHyx",
    "outputId": "c548ef47-f17c-4000-a4cf-3826e088f08b"
   },
   "outputs": [],
   "source": [
    "closest_items = [ id_to_itemid[row_id] for row_id, score in model.similar_items(example_item_row_id, N=5)]"
   ]
  },
  {
   "cell_type": "code",
   "execution_count": 37,
   "metadata": {},
   "outputs": [
    {
     "data": {
      "text/html": [
       "<div>\n",
       "<style scoped>\n",
       "    .dataframe tbody tr th:only-of-type {\n",
       "        vertical-align: middle;\n",
       "    }\n",
       "\n",
       "    .dataframe tbody tr th {\n",
       "        vertical-align: top;\n",
       "    }\n",
       "\n",
       "    .dataframe thead th {\n",
       "        text-align: right;\n",
       "    }\n",
       "</style>\n",
       "<table border=\"1\" class=\"dataframe\">\n",
       "  <thead>\n",
       "    <tr style=\"text-align: right;\">\n",
       "      <th></th>\n",
       "      <th>item_id</th>\n",
       "      <th>manufacturer</th>\n",
       "      <th>department</th>\n",
       "      <th>brand</th>\n",
       "      <th>commodity_desc</th>\n",
       "      <th>sub_commodity_desc</th>\n",
       "      <th>curr_size_of_product</th>\n",
       "    </tr>\n",
       "  </thead>\n",
       "  <tbody>\n",
       "    <tr>\n",
       "      <th>8143</th>\n",
       "      <td>839040</td>\n",
       "      <td>942</td>\n",
       "      <td>GROCERY</td>\n",
       "      <td>National</td>\n",
       "      <td>CONDIMENTS/SAUCES</td>\n",
       "      <td>HOT MUSTARD/SPECIALTY MUSTAR</td>\n",
       "      <td>12 OZ</td>\n",
       "    </tr>\n",
       "    <tr>\n",
       "      <th>17974</th>\n",
       "      <td>925437</td>\n",
       "      <td>69</td>\n",
       "      <td>GROCERY</td>\n",
       "      <td>Private</td>\n",
       "      <td>BAKED SWEET GOODS</td>\n",
       "      <td>SWEET GOODS - FULL SIZE</td>\n",
       "      <td>13 OZ</td>\n",
       "    </tr>\n",
       "    <tr>\n",
       "      <th>25270</th>\n",
       "      <td>990804</td>\n",
       "      <td>69</td>\n",
       "      <td>GROCERY</td>\n",
       "      <td>Private</td>\n",
       "      <td>VEGETABLES - SHELF STABLE</td>\n",
       "      <td>MUSHROOMS CND &amp; GLASS</td>\n",
       "      <td>4.5 OZ</td>\n",
       "    </tr>\n",
       "    <tr>\n",
       "      <th>37579</th>\n",
       "      <td>1100265</td>\n",
       "      <td>69</td>\n",
       "      <td>GROCERY</td>\n",
       "      <td>Private</td>\n",
       "      <td>CHEESE</td>\n",
       "      <td>NATURAL CHEESE EXACT WT SLICES</td>\n",
       "      <td>10 OZ</td>\n",
       "    </tr>\n",
       "    <tr>\n",
       "      <th>63468</th>\n",
       "      <td>8181355</td>\n",
       "      <td>69</td>\n",
       "      <td>GROCERY</td>\n",
       "      <td>Private</td>\n",
       "      <td>BAKED BREAD/BUNS/ROLLS</td>\n",
       "      <td>SANDWICH BUNS</td>\n",
       "      <td>6CT/15OZ</td>\n",
       "    </tr>\n",
       "  </tbody>\n",
       "</table>\n",
       "</div>"
      ],
      "text/plain": [
       "       item_id  manufacturer department     brand             commodity_desc  \\\n",
       "8143    839040           942    GROCERY  National          CONDIMENTS/SAUCES   \n",
       "17974   925437            69    GROCERY   Private          BAKED SWEET GOODS   \n",
       "25270   990804            69    GROCERY   Private  VEGETABLES - SHELF STABLE   \n",
       "37579  1100265            69    GROCERY   Private                     CHEESE   \n",
       "63468  8181355            69    GROCERY   Private     BAKED BREAD/BUNS/ROLLS   \n",
       "\n",
       "                   sub_commodity_desc curr_size_of_product  \n",
       "8143     HOT MUSTARD/SPECIALTY MUSTAR                12 OZ  \n",
       "17974         SWEET GOODS - FULL SIZE                13 OZ  \n",
       "25270           MUSHROOMS CND & GLASS               4.5 OZ  \n",
       "37579  NATURAL CHEESE EXACT WT SLICES                10 OZ  \n",
       "63468                   SANDWICH BUNS             6CT/15OZ  "
      ]
     },
     "execution_count": 37,
     "metadata": {},
     "output_type": "execute_result"
    }
   ],
   "source": [
    "item_features[item_features.item_id.isin(closest_items)]"
   ]
  },
  {
   "cell_type": "markdown",
   "metadata": {
    "id": "z3kvH35nIHyy"
   },
   "source": [
    "*Вашим друзьям нравится / Похожим пользователям нравится / ...*"
   ]
  },
  {
   "cell_type": "markdown",
   "metadata": {
    "id": "I6pbr6dUIHyy"
   },
   "source": [
    "Пользователь --> похожих пользовтелей --> рекомендовать те товары, которые купили похожие юзеры"
   ]
  },
  {
   "cell_type": "code",
   "execution_count": 38,
   "metadata": {
    "id": "StEG6KrkIHyy",
    "outputId": "78aef638-88ce-4a7f-d430-3fef25cdbc12"
   },
   "outputs": [
    {
     "data": {
      "text/plain": [
       "[(9, 1.0),\n",
       " (354, 0.97820604),\n",
       " (1380, 0.9756629),\n",
       " (239, 0.9747446),\n",
       " (1627, 0.9738198)]"
      ]
     },
     "execution_count": 38,
     "metadata": {},
     "output_type": "execute_result"
    }
   ],
   "source": [
    "model.similar_users(userid_to_id[10], N=5)"
   ]
  },
  {
   "cell_type": "markdown",
   "metadata": {
    "id": "dpSbiUfUIHyz"
   },
   "source": [
    "### 2. TF-IDF взвешивание"
   ]
  },
  {
   "cell_type": "code",
   "execution_count": 39,
   "metadata": {
    "id": "4hA_6DX7IHyz"
   },
   "outputs": [],
   "source": [
    "user_item_matrix = tfidf_weight(user_item_matrix.T).T  # Применяется к item-user матрице ! "
   ]
  },
  {
   "cell_type": "code",
   "execution_count": 40,
   "metadata": {
    "colab": {
     "referenced_widgets": [
      "6fee8130b62245e0b0a0597124b6c3ac"
     ]
    },
    "id": "baK0yoTwIHyz",
    "outputId": "16a60037-5061-44f4-9f7e-8a431bb55b43"
   },
   "outputs": [
    {
     "data": {
      "application/vnd.jupyter.widget-view+json": {
       "model_id": "c64433c23420426aa63db08dcbadc102",
       "version_major": 2,
       "version_minor": 0
      },
      "text/plain": [
       "  0%|          | 0/15 [00:00<?, ?it/s]"
      ]
     },
     "metadata": {},
     "output_type": "display_data"
    },
    {
     "name": "stdout",
     "output_type": "stream",
     "text": [
      "Wall time: 22 s\n"
     ]
    },
    {
     "data": {
      "text/plain": [
       "0.1665034280117532"
      ]
     },
     "execution_count": 40,
     "metadata": {},
     "output_type": "execute_result"
    }
   ],
   "source": [
    "%%time\n",
    "\n",
    "model = AlternatingLeastSquares(factors=100, \n",
    "                                regularization=0.001,\n",
    "                                iterations=15, \n",
    "                                calculate_training_loss=True, \n",
    "                                num_threads=4)\n",
    "\n",
    "model.fit(csr_matrix(user_item_matrix).T.tocsr(),  # На вход item-user matrix\n",
    "          show_progress=True)\n",
    "\n",
    "result['als_tfidf'] = result['user_id'].apply(lambda x: get_recommendations(x, model=model, N=5))\n",
    "\n",
    "result.apply(lambda row: precision_at_k(row['als_tfidf'], row['actual']), axis=1).mean()"
   ]
  },
  {
   "cell_type": "markdown",
   "metadata": {
    "id": "6Xw80BaLIHyz"
   },
   "source": [
    "### 3. BM25 взвешивание"
   ]
  },
  {
   "cell_type": "code",
   "execution_count": 46,
   "metadata": {
    "id": "CyNl4rkjIHy0",
    "outputId": "067712af-e22d-4b99-a418-747ee026b72d"
   },
   "outputs": [
    {
     "name": "stderr",
     "output_type": "stream",
     "text": [
      "D:\\anaconda\\envs\\myenv\\lib\\site-packages\\pandas\\core\\indexing.py:966: SettingWithCopyWarning: \n",
      "A value is trying to be set on a copy of a slice from a DataFrame.\n",
      "Try using .loc[row_indexer,col_indexer] = value instead\n",
      "\n",
      "See the caveats in the documentation: https://pandas.pydata.org/pandas-docs/stable/user_guide/indexing.html#returning-a-view-versus-a-copy\n",
      "  self.obj[item] = s\n"
     ]
    },
    {
     "data": {
      "text/html": [
       "<div>\n",
       "<style scoped>\n",
       "    .dataframe tbody tr th:only-of-type {\n",
       "        vertical-align: middle;\n",
       "    }\n",
       "\n",
       "    .dataframe tbody tr th {\n",
       "        vertical-align: top;\n",
       "    }\n",
       "\n",
       "    .dataframe thead th {\n",
       "        text-align: right;\n",
       "    }\n",
       "</style>\n",
       "<table border=\"1\" class=\"dataframe\">\n",
       "  <thead>\n",
       "    <tr style=\"text-align: right;\">\n",
       "      <th>item_id</th>\n",
       "      <th>202291</th>\n",
       "      <th>397896</th>\n",
       "      <th>420647</th>\n",
       "      <th>480014</th>\n",
       "      <th>545926</th>\n",
       "      <th>707683</th>\n",
       "      <th>731106</th>\n",
       "      <th>818980</th>\n",
       "      <th>819063</th>\n",
       "      <th>819227</th>\n",
       "      <th>...</th>\n",
       "      <th>15778533</th>\n",
       "      <th>15831255</th>\n",
       "      <th>15926712</th>\n",
       "      <th>15926775</th>\n",
       "      <th>15926844</th>\n",
       "      <th>15926886</th>\n",
       "      <th>15927403</th>\n",
       "      <th>15927661</th>\n",
       "      <th>15927850</th>\n",
       "      <th>16809471</th>\n",
       "    </tr>\n",
       "    <tr>\n",
       "      <th>user_id</th>\n",
       "      <th></th>\n",
       "      <th></th>\n",
       "      <th></th>\n",
       "      <th></th>\n",
       "      <th></th>\n",
       "      <th></th>\n",
       "      <th></th>\n",
       "      <th></th>\n",
       "      <th></th>\n",
       "      <th></th>\n",
       "      <th></th>\n",
       "      <th></th>\n",
       "      <th></th>\n",
       "      <th></th>\n",
       "      <th></th>\n",
       "      <th></th>\n",
       "      <th></th>\n",
       "      <th></th>\n",
       "      <th></th>\n",
       "      <th></th>\n",
       "      <th></th>\n",
       "    </tr>\n",
       "  </thead>\n",
       "  <tbody>\n",
       "    <tr>\n",
       "      <th>1</th>\n",
       "      <td>0.0</td>\n",
       "      <td>0.0</td>\n",
       "      <td>0.0</td>\n",
       "      <td>0.0</td>\n",
       "      <td>0.0</td>\n",
       "      <td>0.0</td>\n",
       "      <td>0.0</td>\n",
       "      <td>0.0</td>\n",
       "      <td>0.0</td>\n",
       "      <td>0.0</td>\n",
       "      <td>...</td>\n",
       "      <td>0.0</td>\n",
       "      <td>0.0</td>\n",
       "      <td>0.0</td>\n",
       "      <td>0.0</td>\n",
       "      <td>1.0</td>\n",
       "      <td>0.0</td>\n",
       "      <td>0.0</td>\n",
       "      <td>0.0</td>\n",
       "      <td>0.0</td>\n",
       "      <td>0.0</td>\n",
       "    </tr>\n",
       "    <tr>\n",
       "      <th>2</th>\n",
       "      <td>0.0</td>\n",
       "      <td>0.0</td>\n",
       "      <td>0.0</td>\n",
       "      <td>0.0</td>\n",
       "      <td>0.0</td>\n",
       "      <td>0.0</td>\n",
       "      <td>0.0</td>\n",
       "      <td>0.0</td>\n",
       "      <td>0.0</td>\n",
       "      <td>0.0</td>\n",
       "      <td>...</td>\n",
       "      <td>0.0</td>\n",
       "      <td>0.0</td>\n",
       "      <td>0.0</td>\n",
       "      <td>0.0</td>\n",
       "      <td>0.0</td>\n",
       "      <td>0.0</td>\n",
       "      <td>0.0</td>\n",
       "      <td>0.0</td>\n",
       "      <td>0.0</td>\n",
       "      <td>0.0</td>\n",
       "    </tr>\n",
       "    <tr>\n",
       "      <th>3</th>\n",
       "      <td>0.0</td>\n",
       "      <td>0.0</td>\n",
       "      <td>0.0</td>\n",
       "      <td>0.0</td>\n",
       "      <td>0.0</td>\n",
       "      <td>0.0</td>\n",
       "      <td>0.0</td>\n",
       "      <td>0.0</td>\n",
       "      <td>0.0</td>\n",
       "      <td>0.0</td>\n",
       "      <td>...</td>\n",
       "      <td>0.0</td>\n",
       "      <td>0.0</td>\n",
       "      <td>0.0</td>\n",
       "      <td>0.0</td>\n",
       "      <td>0.0</td>\n",
       "      <td>0.0</td>\n",
       "      <td>0.0</td>\n",
       "      <td>0.0</td>\n",
       "      <td>0.0</td>\n",
       "      <td>0.0</td>\n",
       "    </tr>\n",
       "  </tbody>\n",
       "</table>\n",
       "<p>3 rows × 5001 columns</p>\n",
       "</div>"
      ],
      "text/plain": [
       "item_id  202291    397896    420647    480014    545926    707683    731106    \\\n",
       "user_id                                                                         \n",
       "1             0.0       0.0       0.0       0.0       0.0       0.0       0.0   \n",
       "2             0.0       0.0       0.0       0.0       0.0       0.0       0.0   \n",
       "3             0.0       0.0       0.0       0.0       0.0       0.0       0.0   \n",
       "\n",
       "item_id  818980    819063    819227    ...  15778533  15831255  15926712  \\\n",
       "user_id                                ...                                 \n",
       "1             0.0       0.0       0.0  ...       0.0       0.0       0.0   \n",
       "2             0.0       0.0       0.0  ...       0.0       0.0       0.0   \n",
       "3             0.0       0.0       0.0  ...       0.0       0.0       0.0   \n",
       "\n",
       "item_id  15926775  15926844  15926886  15927403  15927661  15927850  16809471  \n",
       "user_id                                                                        \n",
       "1             0.0       1.0       0.0       0.0       0.0       0.0       0.0  \n",
       "2             0.0       0.0       0.0       0.0       0.0       0.0       0.0  \n",
       "3             0.0       0.0       0.0       0.0       0.0       0.0       0.0  \n",
       "\n",
       "[3 rows x 5001 columns]"
      ]
     },
     "execution_count": 46,
     "metadata": {},
     "output_type": "execute_result"
    }
   ],
   "source": [
    "# Заведем фиктивный item_id (если юзер покупал товары из топ-5000, то он \"купил\" такой товар)\n",
    "data_train.loc[~data_train['item_id'].isin(top_5000), 'item_id'] = 999999\n",
    "\n",
    "user_item_matrix = pd.pivot_table(data_train, \n",
    "                                  index='user_id', columns='item_id', \n",
    "                                  values='quantity', # Можно пробовать другие варианты\n",
    "                                  aggfunc='count', \n",
    "                                  fill_value=0\n",
    "                                 )\n",
    "\n",
    "user_item_matrix = user_item_matrix.astype(float) # необходимый тип матрицы для implicit\n",
    "\n",
    "# переведем в формат saprse matrix\n",
    "sparse_user_item = csr_matrix(user_item_matrix).tocsr()\n",
    "\n",
    "user_item_matrix.head(3)"
   ]
  },
  {
   "cell_type": "code",
   "execution_count": 47,
   "metadata": {
    "id": "0yalYjMvIHy0"
   },
   "outputs": [],
   "source": [
    "user_item_matrix = bm25_weight(user_item_matrix.T).T  # Применяется к item-user матрице ! "
   ]
  },
  {
   "cell_type": "code",
   "execution_count": 48,
   "metadata": {
    "colab": {
     "referenced_widgets": [
      "4ed4a23e566645f49a4257ead85d177a"
     ]
    },
    "id": "aixME0BeIHy0",
    "outputId": "8777a5af-c636-4e2b-e315-eb413f7ba346"
   },
   "outputs": [
    {
     "data": {
      "application/vnd.jupyter.widget-view+json": {
       "model_id": "001f6262101f4e10b5513b4ce2360e53",
       "version_major": 2,
       "version_minor": 0
      },
      "text/plain": [
       "  0%|          | 0/15 [00:00<?, ?it/s]"
      ]
     },
     "metadata": {},
     "output_type": "display_data"
    },
    {
     "name": "stdout",
     "output_type": "stream",
     "text": [
      "Wall time: 28.7 s\n"
     ]
    }
   ],
   "source": [
    "%%time\n",
    "\n",
    "model = AlternatingLeastSquares(factors=100, \n",
    "                                regularization=0.001,\n",
    "                                iterations=15, \n",
    "                                calculate_training_loss=True, \n",
    "                                num_threads=4) # K - кол-во билжайших соседей\n",
    "\n",
    "model.fit(csr_matrix(user_item_matrix).T.tocsr(),  # На вход item-user matrix\n",
    "          show_progress=True)\n",
    "\n",
    "result['als_bm25'] = result['user_id'].apply(lambda x: get_recommendations(x, model=model, N=5))"
   ]
  },
  {
   "cell_type": "code",
   "execution_count": 49,
   "metadata": {},
   "outputs": [
    {
     "data": {
      "text/plain": [
       "0.19490695396669933"
      ]
     },
     "execution_count": 49,
     "metadata": {},
     "output_type": "execute_result"
    }
   ],
   "source": [
    "result.apply(lambda row: precision_at_k(row['als_bm25'], row['actual']), axis=1).mean()"
   ]
  },
  {
   "cell_type": "code",
   "execution_count": 55,
   "metadata": {},
   "outputs": [
    {
     "data": {
      "text/html": [
       "<div>\n",
       "<style scoped>\n",
       "    .dataframe tbody tr th:only-of-type {\n",
       "        vertical-align: middle;\n",
       "    }\n",
       "\n",
       "    .dataframe tbody tr th {\n",
       "        vertical-align: top;\n",
       "    }\n",
       "\n",
       "    .dataframe thead th {\n",
       "        text-align: right;\n",
       "    }\n",
       "</style>\n",
       "<table border=\"1\" class=\"dataframe\">\n",
       "  <thead>\n",
       "    <tr style=\"text-align: right;\">\n",
       "      <th></th>\n",
       "      <th>user_id</th>\n",
       "      <th>actual</th>\n",
       "      <th>als</th>\n",
       "      <th>als_tfidf</th>\n",
       "      <th>als_bm25</th>\n",
       "    </tr>\n",
       "  </thead>\n",
       "  <tbody>\n",
       "    <tr>\n",
       "      <th>0</th>\n",
       "      <td>1</td>\n",
       "      <td>[821867, 834484, 856942, 865456, 889248, 90795...</td>\n",
       "      <td>[1033142, 901062, 979707, 995242, 1105488]</td>\n",
       "      <td>[1105488, 999999, 995242, 1082185, 901062]</td>\n",
       "      <td>[999999, 1082185, 965766, 995242, 1051211]</td>\n",
       "    </tr>\n",
       "    <tr>\n",
       "      <th>1</th>\n",
       "      <td>3</td>\n",
       "      <td>[835476, 851057, 872021, 878302, 879948, 90963...</td>\n",
       "      <td>[1106523, 929668, 910032, 951590, 1022003]</td>\n",
       "      <td>[951590, 1106523, 999999, 1051069, 5568378]</td>\n",
       "      <td>[999999, 951590, 1092026, 1053690, 844165]</td>\n",
       "    </tr>\n",
       "    <tr>\n",
       "      <th>2</th>\n",
       "      <td>6</td>\n",
       "      <td>[920308, 926804, 946489, 1006718, 1017061, 107...</td>\n",
       "      <td>[866211, 1007195, 1023720, 878996, 1024306]</td>\n",
       "      <td>[1007195, 878996, 1051516, 1023720, 1127831]</td>\n",
       "      <td>[1082185, 1023720, 1007195, 1024306, 999999]</td>\n",
       "    </tr>\n",
       "    <tr>\n",
       "      <th>3</th>\n",
       "      <td>7</td>\n",
       "      <td>[840386, 889774, 898068, 909714, 929067, 95347...</td>\n",
       "      <td>[999999, 1082185, 938700, 1126899, 908531]</td>\n",
       "      <td>[999999, 1082185, 826249, 1106523, 1029743]</td>\n",
       "      <td>[999999, 1082185, 6944571, 862349, 6534178]</td>\n",
       "    </tr>\n",
       "    <tr>\n",
       "      <th>4</th>\n",
       "      <td>8</td>\n",
       "      <td>[835098, 872137, 910439, 924610, 992977, 10412...</td>\n",
       "      <td>[938700, 844179, 826249, 1068719, 913785]</td>\n",
       "      <td>[979707, 844179, 1053690, 1004906, 1068719]</td>\n",
       "      <td>[999999, 840361, 883404, 1068719, 989075]</td>\n",
       "    </tr>\n",
       "    <tr>\n",
       "      <th>...</th>\n",
       "      <td>...</td>\n",
       "      <td>...</td>\n",
       "      <td>...</td>\n",
       "      <td>...</td>\n",
       "      <td>...</td>\n",
       "    </tr>\n",
       "    <tr>\n",
       "      <th>2037</th>\n",
       "      <td>2496</td>\n",
       "      <td>[6534178]</td>\n",
       "      <td>[914190, 1133018, 840361, 1006184, 847982]</td>\n",
       "      <td>[914190, 1133018, 847982, 840361, 916122]</td>\n",
       "      <td>[1133018, 840361, 999999, 904360, 6534178]</td>\n",
       "    </tr>\n",
       "    <tr>\n",
       "      <th>2038</th>\n",
       "      <td>2497</td>\n",
       "      <td>[1016709, 9835695, 1132298, 16809501, 845294, ...</td>\n",
       "      <td>[5569230, 5585510, 5569845, 826249, 957951]</td>\n",
       "      <td>[951590, 5569230, 957951, 5569471, 883932]</td>\n",
       "      <td>[951590, 826249, 999999, 845208, 5569230]</td>\n",
       "    </tr>\n",
       "    <tr>\n",
       "      <th>2039</th>\n",
       "      <td>2498</td>\n",
       "      <td>[15716530, 834484, 901776, 914190, 958382, 972...</td>\n",
       "      <td>[1053690, 999999, 862349, 1070820, 9526410]</td>\n",
       "      <td>[999999, 1082185, 862349, 995242, 1053690]</td>\n",
       "      <td>[999999, 995242, 840361, 862349, 1082185]</td>\n",
       "    </tr>\n",
       "    <tr>\n",
       "      <th>2040</th>\n",
       "      <td>2499</td>\n",
       "      <td>[867188, 877580, 902396, 914190, 951590, 95813...</td>\n",
       "      <td>[6534178, 1004906, 938700, 1044078, 929668]</td>\n",
       "      <td>[930917, 826249, 883404, 6534178, 1098066]</td>\n",
       "      <td>[999999, 826249, 1098066, 883404, 5569845]</td>\n",
       "    </tr>\n",
       "    <tr>\n",
       "      <th>2041</th>\n",
       "      <td>2500</td>\n",
       "      <td>[852182, 856345, 923746, 948670, 1018007, 1044...</td>\n",
       "      <td>[1029743, 995242, 1058997, 1071939, 859075]</td>\n",
       "      <td>[999999, 1058997, 1082185, 1071939, 1029743]</td>\n",
       "      <td>[999999, 1058997, 1082185, 6534178, 836281]</td>\n",
       "    </tr>\n",
       "  </tbody>\n",
       "</table>\n",
       "<p>2042 rows × 5 columns</p>\n",
       "</div>"
      ],
      "text/plain": [
       "      user_id                                             actual  \\\n",
       "0           1  [821867, 834484, 856942, 865456, 889248, 90795...   \n",
       "1           3  [835476, 851057, 872021, 878302, 879948, 90963...   \n",
       "2           6  [920308, 926804, 946489, 1006718, 1017061, 107...   \n",
       "3           7  [840386, 889774, 898068, 909714, 929067, 95347...   \n",
       "4           8  [835098, 872137, 910439, 924610, 992977, 10412...   \n",
       "...       ...                                                ...   \n",
       "2037     2496                                          [6534178]   \n",
       "2038     2497  [1016709, 9835695, 1132298, 16809501, 845294, ...   \n",
       "2039     2498  [15716530, 834484, 901776, 914190, 958382, 972...   \n",
       "2040     2499  [867188, 877580, 902396, 914190, 951590, 95813...   \n",
       "2041     2500  [852182, 856345, 923746, 948670, 1018007, 1044...   \n",
       "\n",
       "                                              als  \\\n",
       "0      [1033142, 901062, 979707, 995242, 1105488]   \n",
       "1      [1106523, 929668, 910032, 951590, 1022003]   \n",
       "2     [866211, 1007195, 1023720, 878996, 1024306]   \n",
       "3      [999999, 1082185, 938700, 1126899, 908531]   \n",
       "4       [938700, 844179, 826249, 1068719, 913785]   \n",
       "...                                           ...   \n",
       "2037   [914190, 1133018, 840361, 1006184, 847982]   \n",
       "2038  [5569230, 5585510, 5569845, 826249, 957951]   \n",
       "2039  [1053690, 999999, 862349, 1070820, 9526410]   \n",
       "2040  [6534178, 1004906, 938700, 1044078, 929668]   \n",
       "2041  [1029743, 995242, 1058997, 1071939, 859075]   \n",
       "\n",
       "                                         als_tfidf  \\\n",
       "0       [1105488, 999999, 995242, 1082185, 901062]   \n",
       "1      [951590, 1106523, 999999, 1051069, 5568378]   \n",
       "2     [1007195, 878996, 1051516, 1023720, 1127831]   \n",
       "3      [999999, 1082185, 826249, 1106523, 1029743]   \n",
       "4      [979707, 844179, 1053690, 1004906, 1068719]   \n",
       "...                                            ...   \n",
       "2037     [914190, 1133018, 847982, 840361, 916122]   \n",
       "2038    [951590, 5569230, 957951, 5569471, 883932]   \n",
       "2039    [999999, 1082185, 862349, 995242, 1053690]   \n",
       "2040    [930917, 826249, 883404, 6534178, 1098066]   \n",
       "2041  [999999, 1058997, 1082185, 1071939, 1029743]   \n",
       "\n",
       "                                          als_bm25  \n",
       "0       [999999, 1082185, 965766, 995242, 1051211]  \n",
       "1       [999999, 951590, 1092026, 1053690, 844165]  \n",
       "2     [1082185, 1023720, 1007195, 1024306, 999999]  \n",
       "3      [999999, 1082185, 6944571, 862349, 6534178]  \n",
       "4        [999999, 840361, 883404, 1068719, 989075]  \n",
       "...                                            ...  \n",
       "2037    [1133018, 840361, 999999, 904360, 6534178]  \n",
       "2038     [951590, 826249, 999999, 845208, 5569230]  \n",
       "2039     [999999, 995242, 840361, 862349, 1082185]  \n",
       "2040    [999999, 826249, 1098066, 883404, 5569845]  \n",
       "2041   [999999, 1058997, 1082185, 6534178, 836281]  \n",
       "\n",
       "[2042 rows x 5 columns]"
      ]
     },
     "execution_count": 55,
     "metadata": {},
     "output_type": "execute_result"
    }
   ],
   "source": [
    "result"
   ]
  },
  {
   "cell_type": "code",
   "execution_count": 53,
   "metadata": {
    "id": "eq8DV_vtIHy1"
   },
   "outputs": [],
   "source": [
    "result.to_csv('predictions_mf.csv', index=False)  # mf - matrix factorization"
   ]
  },
  {
   "cell_type": "markdown",
   "metadata": {
    "id": "749_a1hBIHy1"
   },
   "source": [
    "## 4. Важно искать оптимальные параметры"
   ]
  },
  {
   "cell_type": "markdown",
   "metadata": {
    "id": "mBdRhScQIHy1"
   },
   "source": [
    "- regularization, iterations\n",
    "- factors\n",
    "- Вес (элемент в матрице user-item)"
   ]
  },
  {
   "cell_type": "markdown",
   "metadata": {
    "id": "aTJVsOhrIHy1"
   },
   "source": [
    "-----"
   ]
  },
  {
   "cell_type": "markdown",
   "metadata": {
    "id": "IgTrX7hAIHy2"
   },
   "source": [
    "# Production"
   ]
  },
  {
   "cell_type": "markdown",
   "metadata": {
    "id": "_BlVIuo8IHy2"
   },
   "source": [
    "Начиная с этого вебинара, мы будем строить *базовое решение* для системы рекомендаций топ-N товаров. В финальном проекте вам нужно будет его сущесвтенно улучшить.  \n",
    "  \n",
    "**Ситуация**: Вы работает data scientist в крупном продуктовом российском ритейлере. Ваш конкурент сделал рекомендательную систему, и его продажи выросли. Ваш менеджмент тоже хочет увеличить продажи   \n",
    "**Задача со слов менеджера**: Сделайте рекомендательную систему топ-10 товаров для рассылки по e-mail"
   ]
  },
  {
   "cell_type": "markdown",
   "metadata": {
    "id": "0O0XT3Y5IHy2"
   },
   "source": [
    "**Ожидание:**\n",
    "- Отправляем e-mail с топ-10 товарами, отсортированными по вероятности\n",
    "\n",
    "**Реальность:**\n",
    "- Чего хочет менеджер от рекомендательной системы? (рост показателя X на Y% за Z недель)\n",
    "- По-хорошему надо бы предварительно посчитать потенциальный эффект от рекоммендательной системы (Оценки эффектов у менеджера и у вас могут сильно не совпадать: как правило, вы знаете про данные больше)\n",
    "- А у нас вообще есть e-mail-ы пользователей? Для скольки %? Не устарели ли они?\n",
    "- Будем ли использовать СМС и push-уведомления в приложении? Может, будем печатать рекомендации на чеке после оплаты на кассе?\n",
    "- Как будет выглядеть e-mail? (решаем задачу топ-10 рекомендаций или ранжирования? И топ-10 ли?)\n",
    "- Какие товары должны быть в e-mail? Есть ли какие-то ограничения (только акции и т п)?\n",
    "- Сколько денег мы готовы потратить на привлечение 1 юзера? CAC - Customer Aquisition Cost. Обычно CAC = расходы на коммуникацию + расходы на скидки\n",
    "- Cколько мы хотим зарабатывать с одного привлеченного юзера?\n",
    "---\n",
    "- А точно нужно сортировать по вероятности?\n",
    "- Какую метрику использовать?\n",
    "- Сколько раз в неделю отпрпавляем рассылку?\n",
    "- В какое время отправляем рассылку?\n",
    "- Будем отправлять одному юзеру много раз наши рекоммендации. Как добиться того, чтобы они хоть немного отличались?\n",
    "- Нужно ли, чтобы в одной рассылке были *разные* товары? Как определить, что товары *разные*? Как добиться того, чтобы они были разными?\n",
    "- И многое другое:)"
   ]
  },
  {
   "cell_type": "markdown",
   "metadata": {
    "id": "QQN2KT7JIHy2"
   },
   "source": [
    "**В итоге договорились, что:**\n",
    "- Хотим повысить выручку минимум на 6% за 4 месяца. Будем повышать за счет роста Retention минимум на  3% и среднего чека минимум на 3%\n",
    "- Топ-5 товаров, а не топ-10 (В e-mail 10 выглядят не красиво, в push и на чек больше 5 не влезает)\n",
    "- Рассылаем в e-mail (5% клиентов) и push-уведомлении (20% клиентов), печатаем на чеке (все оффлайн клиенты)\n",
    "- **3 товара с акцией** (Как это учесть? А если на товар была акция 10%, а потом 50%, что будет стоять в user-item матрице?)\n",
    "- **1 новый товар** (юзер никогда не покупал. Просто фильтруем аутпут ALS? А если у таких товаров очень маленькая вероятность покупки? Может, использовать другую логику/модель?) \n",
    "- **1 товар для роста среднего чека** (товары минимум дороже чем обычно покупает юзер. Как это измерить? На сколько дороже?)"
   ]
  },
  {
   "cell_type": "markdown",
   "metadata": {
    "id": "TJVGydM9IHy2"
   },
   "source": [
    "Вопросов стало еще больше. Поэтому сначала делаем **MVP** (Minimum viable product) на e-mail. Показываем его менеджеру, измеряем метрики на юзерах. По фидбеку и метрикам делаем улучшения MVP и раскатываем его на push-уведомления и чеки\n",
    "\n",
    "*Data Science проект* - итеративный процесс!"
   ]
  },
  {
   "cell_type": "code",
   "execution_count": null,
   "metadata": {
    "id": "rA7g4mL8IHy3",
    "outputId": "ecf022e0-c283-4cb8-ccec-611f9cdbedad"
   },
   "outputs": [],
   "source": [
    "data_train.head(2)"
   ]
  },
  {
   "cell_type": "code",
   "execution_count": null,
   "metadata": {
    "id": "Ng_OBqaJIHy3",
    "outputId": "9b8bd811-80b7-47f1-bf70-58c51c48fc17"
   },
   "outputs": [],
   "source": [
    "data_train['price'] = data_train['sales_value'] / (np.maximum(data_train['quantity'], 1))\n",
    "data_train['price'].max()"
   ]
  },
  {
   "cell_type": "code",
   "execution_count": null,
   "metadata": {
    "id": "fO-CqBT4IHy3",
    "outputId": "5fad70dd-f1ae-4cb2-9e1f-dab3484d4919"
   },
   "outputs": [],
   "source": [
    "# < 1$\n",
    "data_train['price'].quantile(0.20)"
   ]
  },
  {
   "cell_type": "code",
   "execution_count": null,
   "metadata": {
    "id": "3kBJJ2s3IHy4",
    "outputId": "253ef171-4dd8-42f8-c912-9deb792dd597"
   },
   "outputs": [],
   "source": [
    "# > 100$\n",
    "data_train['price'].quantile(0.99995)"
   ]
  },
  {
   "cell_type": "code",
   "execution_count": null,
   "metadata": {
    "id": "oAK7h-0CIHy4"
   },
   "outputs": [],
   "source": [
    "def prefilter_items(data):\n",
    "    # Уберем самые популярные товары (их и так купят)\n",
    "    popularity = data_train.groupby('item_id')['user_id'].nunique().reset_index() / data_train['user_id'].nunique()\n",
    "    popularity.rename(columns={'user_id': 'share_unique_users'}, inplace=True)\n",
    "    \n",
    "    top_popular = popularity[popularity['share_unique_users'] > 0.5].item_id.tolist()\n",
    "    data = data[~data['item_id'].isin(top_popular)]\n",
    "    \n",
    "    # Уберем самые НЕ популярные товары (их и так НЕ купят)\n",
    "    top_notpopular = popularity[popularity['share_unique_users'] < 0.01].item_id.tolist()\n",
    "    data = data[~data['item_id'].isin(top_notpopular)]\n",
    "    \n",
    "    # Уберем товары, которые не продавались за последние 12 месяцев\n",
    "    \n",
    "    # Уберем не интересные для рекоммендаций категории (department)\n",
    "    \n",
    "    # Уберем слишком дешевые товары (на них не заработаем). 1 покупка из рассылок стоит 60 руб. \n",
    "    \n",
    "    # Уберем слишком дорогие товары\n",
    "    \n",
    "    # ...\n",
    "    \n",
    "def postfilter_items(user_id, recommednations):\n",
    "    pass"
   ]
  },
  {
   "cell_type": "markdown",
   "metadata": {
    "id": "OqYWeY14IHy4"
   },
   "source": [
    "Все эти функции отправим затем в *utils.py*"
   ]
  },
  {
   "cell_type": "markdown",
   "metadata": {},
   "source": [
    "# ДЗ\n",
    "\n",
    "1) Попытаться ответить на вопросы/выдвинуть гипотезы\n",
    "\n",
    "2) Доделать прошлые домашния задания\n",
    "\n",
    "3) Прочитать статьи BM25/MatrixFactorization\n",
    "\n",
    "4) Поэкспериментировать с ALS (grid-search)"
   ]
  },
  {
   "cell_type": "markdown",
   "metadata": {},
   "source": [
    "# Links\n",
    "\n",
    "BM25\n",
    "\n",
    "https://en.wikipedia.org/wiki/Okapi_BM25#:~:text=BM25%20is%20a%20bag%2Dof,slightly%20different%20components%20and%20parameters.\n",
    "\n",
    "\n",
    "Matrix factorization (ALS, SVD)\n",
    "https://datasciencemadesimpler.wordpress.com/tag/alternating-least-squares/"
   ]
  },
  {
   "cell_type": "code",
   "execution_count": null,
   "metadata": {},
   "outputs": [],
   "source": []
  }
 ],
 "metadata": {
  "colab": {
   "name": "webinar_3.ipynb",
   "provenance": [],
   "toc_visible": true
  },
  "kernelspec": {
   "display_name": "Python 3 (ipykernel)",
   "language": "python",
   "name": "python3"
  },
  "language_info": {
   "codemirror_mode": {
    "name": "ipython",
    "version": 3
   },
   "file_extension": ".py",
   "mimetype": "text/x-python",
   "name": "python",
   "nbconvert_exporter": "python",
   "pygments_lexer": "ipython3",
   "version": "3.8.12"
  }
 },
 "nbformat": 4,
 "nbformat_minor": 1
}
